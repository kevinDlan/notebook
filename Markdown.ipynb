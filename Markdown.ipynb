{
 "cells": [
  {
   "cell_type": "markdown",
   "id": "0dd355ca",
   "metadata": {},
   "source": [
    "# Markdown\n",
    "<a id=\"top\"><a>"
   ]
  },
  {
   "cell_type": "markdown",
   "id": "5b4dd898",
   "metadata": {},
   "source": [
    "### Markdown List\n",
    "List\n",
    "* Item one\n",
    "* Item Two\n",
    "    * Sub-item one\n",
    "    * Sub -item two\n",
    "        * Sub\n",
    "    "
   ]
  },
  {
   "cell_type": "markdown",
   "id": "6d661dfa",
   "metadata": {},
   "source": [
    "Numeric List\n",
    "1. Item 1\n",
    "1. Item 2\n",
    "1. Item 3\n",
    "    1. Sub Item 1\n",
    "    1. Sub Item 2\n",
    "    1. Sub Item 3\n",
    "        1. Sub Sub Item \n",
    "        1. Sub Sub Item "
   ]
  },
  {
   "cell_type": "markdown",
   "id": "42d5d7ca",
   "metadata": {},
   "source": [
    "### Links\n",
    "\n",
    "+ [Google](https://google.com)\n",
    "+ [Facebook](https://facebook.com)\n",
    "+ [Top](#top)"
   ]
  },
  {
   "cell_type": "markdown",
   "id": "e67083b0",
   "metadata": {},
   "source": [
    "## Bold text\n",
    "\n",
    "*Italic text*\n",
    "\n",
    "**Bold Text**"
   ]
  },
  {
   "cell_type": "markdown",
   "id": "e703bb53",
   "metadata": {},
   "source": [
    "### Formating Code"
   ]
  },
  {
   "cell_type": "markdown",
   "id": "10ba4f56",
   "metadata": {},
   "source": [
    "```python\n",
    "If x = 10 :\n",
    "        print('Cool')\n",
    "```"
   ]
  },
  {
   "cell_type": "markdown",
   "id": "17660e3e",
   "metadata": {},
   "source": [
    "## Table\n",
    "\n",
    "| Nom | Prenom|\n",
    "|:----|:------|\n",
    "|KONE |Kevin  |"
   ]
  },
  {
   "cell_type": "markdown",
   "id": "9d45f9fd",
   "metadata": {},
   "source": [
    "## Image\n",
    "\n",
    "[Image](image.png)\n",
    "<img src=\"image.png\" width=\"100\">"
   ]
  },
  {
   "cell_type": "code",
   "execution_count": null,
   "id": "ae3f9c2a",
   "metadata": {},
   "outputs": [],
   "source": []
  }
 ],
 "metadata": {
  "kernelspec": {
   "display_name": "Python 3",
   "language": "python",
   "name": "python3"
  },
  "language_info": {
   "codemirror_mode": {
    "name": "ipython",
    "version": 3
   },
   "file_extension": ".py",
   "mimetype": "text/x-python",
   "name": "python",
   "nbconvert_exporter": "python",
   "pygments_lexer": "ipython3",
   "version": "3.9.5"
  }
 },
 "nbformat": 4,
 "nbformat_minor": 5
}
