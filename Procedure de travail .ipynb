{
 "cells": [
  {
   "cell_type": "markdown",
   "id": "01930eae",
   "metadata": {},
   "source": [
    "1 - Chargement du Dataset"
   ]
  },
  {
   "cell_type": "code",
   "execution_count": 1,
   "id": "8ef6ae69",
   "metadata": {},
   "outputs": [],
   "source": [
    "import pandas as pd\n",
    "import matplotlib.pyplot as plt\n",
    "import seaborn as sns\n",
    "from sklearn.preprocessing import LabelEncoder, StandardScaler\n",
    "from sklearn.model_selection import train_test_split\n",
    "from sklearn.linear_model import LogisticRegression\n",
    "from sklearn.neighbors import KNeighborsClassifier\n",
    "from sklearn.metrics import accuracy_score,classification_report\n",
    "\n",
    "sns.set()"
   ]
  },
  {
   "cell_type": "code",
   "execution_count": 76,
   "id": "0926c5e9",
   "metadata": {},
   "outputs": [],
   "source": [
    "dataframe = pd.read_table('heart.txt')"
   ]
  },
  {
   "cell_type": "code",
   "execution_count": 77,
   "id": "77a46919",
   "metadata": {},
   "outputs": [
    {
     "data": {
      "text/html": [
       "<div>\n",
       "<style scoped>\n",
       "    .dataframe tbody tr th:only-of-type {\n",
       "        vertical-align: middle;\n",
       "    }\n",
       "\n",
       "    .dataframe tbody tr th {\n",
       "        vertical-align: top;\n",
       "    }\n",
       "\n",
       "    .dataframe thead th {\n",
       "        text-align: right;\n",
       "    }\n",
       "</style>\n",
       "<table border=\"1\" class=\"dataframe\">\n",
       "  <thead>\n",
       "    <tr style=\"text-align: right;\">\n",
       "      <th></th>\n",
       "      <th>age</th>\n",
       "      <th>sexe</th>\n",
       "      <th>pression</th>\n",
       "      <th>cholester</th>\n",
       "      <th>sucre</th>\n",
       "      <th>electro</th>\n",
       "      <th>taux_max</th>\n",
       "      <th>angine</th>\n",
       "      <th>depression</th>\n",
       "      <th>pic</th>\n",
       "      <th>vaisseau</th>\n",
       "      <th>coeur</th>\n",
       "    </tr>\n",
       "  </thead>\n",
       "  <tbody>\n",
       "    <tr>\n",
       "      <th>0</th>\n",
       "      <td>58</td>\n",
       "      <td>masculin</td>\n",
       "      <td>100</td>\n",
       "      <td>234</td>\n",
       "      <td>A</td>\n",
       "      <td>A</td>\n",
       "      <td>156</td>\n",
       "      <td>non</td>\n",
       "      <td>1</td>\n",
       "      <td>1</td>\n",
       "      <td>B</td>\n",
       "      <td>presence</td>\n",
       "    </tr>\n",
       "    <tr>\n",
       "      <th>1</th>\n",
       "      <td>41</td>\n",
       "      <td>feminin</td>\n",
       "      <td>130</td>\n",
       "      <td>204</td>\n",
       "      <td>A</td>\n",
       "      <td>C</td>\n",
       "      <td>172</td>\n",
       "      <td>non</td>\n",
       "      <td>14</td>\n",
       "      <td>1</td>\n",
       "      <td>A</td>\n",
       "      <td>absence</td>\n",
       "    </tr>\n",
       "    <tr>\n",
       "      <th>2</th>\n",
       "      <td>58</td>\n",
       "      <td>masculin</td>\n",
       "      <td>150</td>\n",
       "      <td>270</td>\n",
       "      <td>A</td>\n",
       "      <td>C</td>\n",
       "      <td>111</td>\n",
       "      <td>oui</td>\n",
       "      <td>8</td>\n",
       "      <td>1</td>\n",
       "      <td>A</td>\n",
       "      <td>presence</td>\n",
       "    </tr>\n",
       "    <tr>\n",
       "      <th>3</th>\n",
       "      <td>53</td>\n",
       "      <td>masculin</td>\n",
       "      <td>140</td>\n",
       "      <td>203</td>\n",
       "      <td>B</td>\n",
       "      <td>C</td>\n",
       "      <td>155</td>\n",
       "      <td>oui</td>\n",
       "      <td>31</td>\n",
       "      <td>3</td>\n",
       "      <td>A</td>\n",
       "      <td>presence</td>\n",
       "    </tr>\n",
       "    <tr>\n",
       "      <th>4</th>\n",
       "      <td>41</td>\n",
       "      <td>masculin</td>\n",
       "      <td>130</td>\n",
       "      <td>214</td>\n",
       "      <td>A</td>\n",
       "      <td>C</td>\n",
       "      <td>168</td>\n",
       "      <td>non</td>\n",
       "      <td>20</td>\n",
       "      <td>2</td>\n",
       "      <td>A</td>\n",
       "      <td>absence</td>\n",
       "    </tr>\n",
       "  </tbody>\n",
       "</table>\n",
       "</div>"
      ],
      "text/plain": [
       "   age      sexe  pression  cholester sucre electro  taux_max angine  \\\n",
       "0   58  masculin       100        234     A       A       156    non   \n",
       "1   41   feminin       130        204     A       C       172    non   \n",
       "2   58  masculin       150        270     A       C       111    oui   \n",
       "3   53  masculin       140        203     B       C       155    oui   \n",
       "4   41  masculin       130        214     A       C       168    non   \n",
       "\n",
       "   depression  pic vaisseau     coeur  \n",
       "0           1    1        B  presence  \n",
       "1          14    1        A   absence  \n",
       "2           8    1        A  presence  \n",
       "3          31    3        A  presence  \n",
       "4          20    2        A   absence  "
      ]
     },
     "execution_count": 77,
     "metadata": {},
     "output_type": "execute_result"
    }
   ],
   "source": [
    "dataframe.head()"
   ]
  },
  {
   "cell_type": "code",
   "execution_count": 78,
   "id": "da1a68b2",
   "metadata": {},
   "outputs": [],
   "source": [
    "df = dataframe.copy()"
   ]
  },
  {
   "cell_type": "code",
   "execution_count": 79,
   "id": "0c4ec953",
   "metadata": {},
   "outputs": [
    {
     "data": {
      "text/html": [
       "<div>\n",
       "<style scoped>\n",
       "    .dataframe tbody tr th:only-of-type {\n",
       "        vertical-align: middle;\n",
       "    }\n",
       "\n",
       "    .dataframe tbody tr th {\n",
       "        vertical-align: top;\n",
       "    }\n",
       "\n",
       "    .dataframe thead th {\n",
       "        text-align: right;\n",
       "    }\n",
       "</style>\n",
       "<table border=\"1\" class=\"dataframe\">\n",
       "  <thead>\n",
       "    <tr style=\"text-align: right;\">\n",
       "      <th></th>\n",
       "      <th>age</th>\n",
       "      <th>sexe</th>\n",
       "      <th>pression</th>\n",
       "      <th>cholester</th>\n",
       "      <th>sucre</th>\n",
       "      <th>electro</th>\n",
       "      <th>taux_max</th>\n",
       "      <th>angine</th>\n",
       "      <th>depression</th>\n",
       "      <th>pic</th>\n",
       "      <th>vaisseau</th>\n",
       "      <th>coeur</th>\n",
       "    </tr>\n",
       "  </thead>\n",
       "  <tbody>\n",
       "    <tr>\n",
       "      <th>0</th>\n",
       "      <td>58</td>\n",
       "      <td>masculin</td>\n",
       "      <td>100</td>\n",
       "      <td>234</td>\n",
       "      <td>A</td>\n",
       "      <td>A</td>\n",
       "      <td>156</td>\n",
       "      <td>non</td>\n",
       "      <td>1</td>\n",
       "      <td>1</td>\n",
       "      <td>B</td>\n",
       "      <td>presence</td>\n",
       "    </tr>\n",
       "    <tr>\n",
       "      <th>1</th>\n",
       "      <td>41</td>\n",
       "      <td>feminin</td>\n",
       "      <td>130</td>\n",
       "      <td>204</td>\n",
       "      <td>A</td>\n",
       "      <td>C</td>\n",
       "      <td>172</td>\n",
       "      <td>non</td>\n",
       "      <td>14</td>\n",
       "      <td>1</td>\n",
       "      <td>A</td>\n",
       "      <td>absence</td>\n",
       "    </tr>\n",
       "    <tr>\n",
       "      <th>2</th>\n",
       "      <td>58</td>\n",
       "      <td>masculin</td>\n",
       "      <td>150</td>\n",
       "      <td>270</td>\n",
       "      <td>A</td>\n",
       "      <td>C</td>\n",
       "      <td>111</td>\n",
       "      <td>oui</td>\n",
       "      <td>8</td>\n",
       "      <td>1</td>\n",
       "      <td>A</td>\n",
       "      <td>presence</td>\n",
       "    </tr>\n",
       "    <tr>\n",
       "      <th>3</th>\n",
       "      <td>53</td>\n",
       "      <td>masculin</td>\n",
       "      <td>140</td>\n",
       "      <td>203</td>\n",
       "      <td>B</td>\n",
       "      <td>C</td>\n",
       "      <td>155</td>\n",
       "      <td>oui</td>\n",
       "      <td>31</td>\n",
       "      <td>3</td>\n",
       "      <td>A</td>\n",
       "      <td>presence</td>\n",
       "    </tr>\n",
       "    <tr>\n",
       "      <th>4</th>\n",
       "      <td>41</td>\n",
       "      <td>masculin</td>\n",
       "      <td>130</td>\n",
       "      <td>214</td>\n",
       "      <td>A</td>\n",
       "      <td>C</td>\n",
       "      <td>168</td>\n",
       "      <td>non</td>\n",
       "      <td>20</td>\n",
       "      <td>2</td>\n",
       "      <td>A</td>\n",
       "      <td>absence</td>\n",
       "    </tr>\n",
       "  </tbody>\n",
       "</table>\n",
       "</div>"
      ],
      "text/plain": [
       "   age      sexe  pression  cholester sucre electro  taux_max angine  \\\n",
       "0   58  masculin       100        234     A       A       156    non   \n",
       "1   41   feminin       130        204     A       C       172    non   \n",
       "2   58  masculin       150        270     A       C       111    oui   \n",
       "3   53  masculin       140        203     B       C       155    oui   \n",
       "4   41  masculin       130        214     A       C       168    non   \n",
       "\n",
       "   depression  pic vaisseau     coeur  \n",
       "0           1    1        B  presence  \n",
       "1          14    1        A   absence  \n",
       "2           8    1        A  presence  \n",
       "3          31    3        A  presence  \n",
       "4          20    2        A   absence  "
      ]
     },
     "execution_count": 79,
     "metadata": {},
     "output_type": "execute_result"
    }
   ],
   "source": [
    "df.head()"
   ]
  },
  {
   "cell_type": "code",
   "execution_count": 80,
   "id": "67e6c5b9",
   "metadata": {},
   "outputs": [
    {
     "data": {
      "text/plain": [
       "age           0\n",
       "sexe          0\n",
       "pression      0\n",
       "cholester     0\n",
       "sucre         0\n",
       "electro       0\n",
       "taux_max      0\n",
       "angine        0\n",
       "depression    0\n",
       "pic           0\n",
       "vaisseau      0\n",
       "coeur         0\n",
       "dtype: int64"
      ]
     },
     "execution_count": 80,
     "metadata": {},
     "output_type": "execute_result"
    }
   ],
   "source": [
    "df.isna().sum()"
   ]
  },
  {
   "cell_type": "markdown",
   "id": "8d9739ce",
   "metadata": {},
   "source": [
    "2 - Prétraitement du Dataset"
   ]
  },
  {
   "cell_type": "markdown",
   "id": "e40bf081",
   "metadata": {},
   "source": [
    "- Encodage des variables Qualitative"
   ]
  },
  {
   "cell_type": "code",
   "execution_count": 81,
   "id": "a82cd372",
   "metadata": {},
   "outputs": [],
   "source": [
    "df_quant = df.select_dtypes(exclude=object)\n",
    "df_quali = df.select_dtypes(object).drop(['coeur'],axis=1)\n",
    "target = df['coeur']"
   ]
  },
  {
   "cell_type": "code",
   "execution_count": 82,
   "id": "e1e2bbd4",
   "metadata": {},
   "outputs": [],
   "source": [
    "df_quali = pd.get_dummies(df_quali)\n",
    "enc = LabelEncoder()\n",
    "label_encoder = enc.fit(df['coeur'])\n",
    "df['coeur'] = label_encoder.transform(target)"
   ]
  },
  {
   "cell_type": "code",
   "execution_count": 85,
   "id": "1be051b2",
   "metadata": {},
   "outputs": [],
   "source": [
    "y = df['coeur']"
   ]
  },
  {
   "cell_type": "markdown",
   "id": "a356524c",
   "metadata": {},
   "source": [
    "- Vérification de l'échelle des variable quantitative"
   ]
  },
  {
   "cell_type": "code",
   "execution_count": 86,
   "id": "d93c9f5c",
   "metadata": {},
   "outputs": [
    {
     "data": {
      "image/png": "[encoded data removed]",
      "text/plain": [
       "<Figure size 432x288 with 1 Axes>"
      ]
     },
     "metadata": {},
     "output_type": "display_data"
    }
   ],
   "source": [
    "sns.boxplot(data = df_quant)\n",
    "plt.show()"
   ]
  },
  {
   "cell_type": "markdown",
   "id": "d957ddc5",
   "metadata": {},
   "source": [
    "- Normalisation des variables quantitative"
   ]
  },
  {
   "cell_type": "code",
   "execution_count": 87,
   "id": "ce38299f",
   "metadata": {},
   "outputs": [],
   "source": [
    "normaliser = StandardScaler()\n",
    "df_quant = df_quant.drop('pic',axis=1)\n",
    "df_quant[df_quant.columns] = normaliser.fit_transform(df_quant)"
   ]
  },
  {
   "cell_type": "code",
   "execution_count": 88,
   "id": "cad68d81",
   "metadata": {},
   "outputs": [
    {
     "data": {
      "text/html": [
       "<div>\n",
       "<style scoped>\n",
       "    .dataframe tbody tr th:only-of-type {\n",
       "        vertical-align: middle;\n",
       "    }\n",
       "\n",
       "    .dataframe tbody tr th {\n",
       "        vertical-align: top;\n",
       "    }\n",
       "\n",
       "    .dataframe thead th {\n",
       "        text-align: right;\n",
       "    }\n",
       "</style>\n",
       "<table border=\"1\" class=\"dataframe\">\n",
       "  <thead>\n",
       "    <tr style=\"text-align: right;\">\n",
       "      <th></th>\n",
       "      <th>age</th>\n",
       "      <th>pression</th>\n",
       "      <th>cholester</th>\n",
       "      <th>taux_max</th>\n",
       "      <th>depression</th>\n",
       "    </tr>\n",
       "  </thead>\n",
       "  <tbody>\n",
       "    <tr>\n",
       "      <th>0</th>\n",
       "      <td>0.392278</td>\n",
       "      <td>-1.758109</td>\n",
       "      <td>-0.303530</td>\n",
       "      <td>0.273420</td>\n",
       "      <td>-0.831083</td>\n",
       "    </tr>\n",
       "    <tr>\n",
       "      <th>1</th>\n",
       "      <td>-1.477460</td>\n",
       "      <td>-0.075410</td>\n",
       "      <td>-0.885033</td>\n",
       "      <td>0.965378</td>\n",
       "      <td>0.306188</td>\n",
       "    </tr>\n",
       "    <tr>\n",
       "      <th>2</th>\n",
       "      <td>0.392278</td>\n",
       "      <td>1.046389</td>\n",
       "      <td>0.394274</td>\n",
       "      <td>-1.672713</td>\n",
       "      <td>-0.218706</td>\n",
       "    </tr>\n",
       "    <tr>\n",
       "      <th>3</th>\n",
       "      <td>-0.157645</td>\n",
       "      <td>0.485490</td>\n",
       "      <td>-0.904417</td>\n",
       "      <td>0.230172</td>\n",
       "      <td>1.793389</td>\n",
       "    </tr>\n",
       "    <tr>\n",
       "      <th>4</th>\n",
       "      <td>-1.477460</td>\n",
       "      <td>-0.075410</td>\n",
       "      <td>-0.691199</td>\n",
       "      <td>0.792388</td>\n",
       "      <td>0.831083</td>\n",
       "    </tr>\n",
       "    <tr>\n",
       "      <th>...</th>\n",
       "      <td>...</td>\n",
       "      <td>...</td>\n",
       "      <td>...</td>\n",
       "      <td>...</td>\n",
       "      <td>...</td>\n",
       "    </tr>\n",
       "    <tr>\n",
       "      <th>265</th>\n",
       "      <td>0.832217</td>\n",
       "      <td>0.485490</td>\n",
       "      <td>0.355507</td>\n",
       "      <td>0.446409</td>\n",
       "      <td>2.230801</td>\n",
       "    </tr>\n",
       "    <tr>\n",
       "      <th>266</th>\n",
       "      <td>0.832217</td>\n",
       "      <td>-0.075410</td>\n",
       "      <td>-0.361681</td>\n",
       "      <td>-0.159054</td>\n",
       "      <td>0.656118</td>\n",
       "    </tr>\n",
       "    <tr>\n",
       "      <th>267</th>\n",
       "      <td>1.052186</td>\n",
       "      <td>-1.197209</td>\n",
       "      <td>-0.749349</td>\n",
       "      <td>-0.245549</td>\n",
       "      <td>0.656118</td>\n",
       "    </tr>\n",
       "    <tr>\n",
       "      <th>268</th>\n",
       "      <td>0.942201</td>\n",
       "      <td>1.046389</td>\n",
       "      <td>3.049805</td>\n",
       "      <td>0.186925</td>\n",
       "      <td>2.580731</td>\n",
       "    </tr>\n",
       "    <tr>\n",
       "      <th>269</th>\n",
       "      <td>-2.137367</td>\n",
       "      <td>0.373310</td>\n",
       "      <td>-1.292086</td>\n",
       "      <td>1.397852</td>\n",
       "      <td>0.306188</td>\n",
       "    </tr>\n",
       "  </tbody>\n",
       "</table>\n",
       "<p>270 rows × 5 columns</p>\n",
       "</div>"
      ],
      "text/plain": [
       "          age  pression  cholester  taux_max  depression\n",
       "0    0.392278 -1.758109  -0.303530  0.273420   -0.831083\n",
       "1   -1.477460 -0.075410  -0.885033  0.965378    0.306188\n",
       "2    0.392278  1.046389   0.394274 -1.672713   -0.218706\n",
       "3   -0.157645  0.485490  -0.904417  0.230172    1.793389\n",
       "4   -1.477460 -0.075410  -0.691199  0.792388    0.831083\n",
       "..        ...       ...        ...       ...         ...\n",
       "265  0.832217  0.485490   0.355507  0.446409    2.230801\n",
       "266  0.832217 -0.075410  -0.361681 -0.159054    0.656118\n",
       "267  1.052186 -1.197209  -0.749349 -0.245549    0.656118\n",
       "268  0.942201  1.046389   3.049805  0.186925    2.580731\n",
       "269 -2.137367  0.373310  -1.292086  1.397852    0.306188\n",
       "\n",
       "[270 rows x 5 columns]"
      ]
     },
     "execution_count": 88,
     "metadata": {},
     "output_type": "execute_result"
    }
   ],
   "source": [
    "df_quant"
   ]
  },
  {
   "cell_type": "markdown",
   "id": "87c87f3e",
   "metadata": {},
   "source": [
    "- Vérification de l'échelle des variable quantitative"
   ]
  },
  {
   "cell_type": "code",
   "execution_count": 93,
   "id": "2917c1b0",
   "metadata": {},
   "outputs": [
    {
     "data": {
      "text/plain": [
       "<AxesSubplot:>"
      ]
     },
     "execution_count": 93,
     "metadata": {},
     "output_type": "execute_result"
    },
    {
     "data": {
      "image/png": "[encoded data removed]",
      "text/plain": [
       "<Figure size 432x288 with 1 Axes>"
      ]
     },
     "metadata": {},
     "output_type": "display_data"
    }
   ],
   "source": [
    "sns.boxplot(data = df_quant)"
   ]
  },
  {
   "cell_type": "markdown",
   "id": "b459ddba",
   "metadata": {},
   "source": [
    "- Ensemblage des Dataset"
   ]
  },
  {
   "cell_type": "code",
   "execution_count": 94,
   "id": "6f089aac",
   "metadata": {},
   "outputs": [
    {
     "data": {
      "text/html": [
       "<div>\n",
       "<style scoped>\n",
       "    .dataframe tbody tr th:only-of-type {\n",
       "        vertical-align: middle;\n",
       "    }\n",
       "\n",
       "    .dataframe tbody tr th {\n",
       "        vertical-align: top;\n",
       "    }\n",
       "\n",
       "    .dataframe thead th {\n",
       "        text-align: right;\n",
       "    }\n",
       "</style>\n",
       "<table border=\"1\" class=\"dataframe\">\n",
       "  <thead>\n",
       "    <tr style=\"text-align: right;\">\n",
       "      <th></th>\n",
       "      <th>age</th>\n",
       "      <th>pression</th>\n",
       "      <th>cholester</th>\n",
       "      <th>taux_max</th>\n",
       "      <th>depression</th>\n",
       "      <th>pic</th>\n",
       "      <th>sexe_feminin</th>\n",
       "      <th>sexe_masculin</th>\n",
       "      <th>sucre_A</th>\n",
       "      <th>sucre_B</th>\n",
       "      <th>electro_A</th>\n",
       "      <th>electro_B</th>\n",
       "      <th>electro_C</th>\n",
       "      <th>angine_non</th>\n",
       "      <th>angine_oui</th>\n",
       "      <th>vaisseau_A</th>\n",
       "      <th>vaisseau_B</th>\n",
       "      <th>vaisseau_C</th>\n",
       "      <th>vaisseau_D</th>\n",
       "    </tr>\n",
       "  </thead>\n",
       "  <tbody>\n",
       "    <tr>\n",
       "      <th>0</th>\n",
       "      <td>0.392278</td>\n",
       "      <td>-1.758109</td>\n",
       "      <td>-0.303530</td>\n",
       "      <td>0.273420</td>\n",
       "      <td>-0.831083</td>\n",
       "      <td>1</td>\n",
       "      <td>0</td>\n",
       "      <td>1</td>\n",
       "      <td>1</td>\n",
       "      <td>0</td>\n",
       "      <td>1</td>\n",
       "      <td>0</td>\n",
       "      <td>0</td>\n",
       "      <td>1</td>\n",
       "      <td>0</td>\n",
       "      <td>0</td>\n",
       "      <td>1</td>\n",
       "      <td>0</td>\n",
       "      <td>0</td>\n",
       "    </tr>\n",
       "    <tr>\n",
       "      <th>1</th>\n",
       "      <td>-1.477460</td>\n",
       "      <td>-0.075410</td>\n",
       "      <td>-0.885033</td>\n",
       "      <td>0.965378</td>\n",
       "      <td>0.306188</td>\n",
       "      <td>1</td>\n",
       "      <td>1</td>\n",
       "      <td>0</td>\n",
       "      <td>1</td>\n",
       "      <td>0</td>\n",
       "      <td>0</td>\n",
       "      <td>0</td>\n",
       "      <td>1</td>\n",
       "      <td>1</td>\n",
       "      <td>0</td>\n",
       "      <td>1</td>\n",
       "      <td>0</td>\n",
       "      <td>0</td>\n",
       "      <td>0</td>\n",
       "    </tr>\n",
       "    <tr>\n",
       "      <th>2</th>\n",
       "      <td>0.392278</td>\n",
       "      <td>1.046389</td>\n",
       "      <td>0.394274</td>\n",
       "      <td>-1.672713</td>\n",
       "      <td>-0.218706</td>\n",
       "      <td>1</td>\n",
       "      <td>0</td>\n",
       "      <td>1</td>\n",
       "      <td>1</td>\n",
       "      <td>0</td>\n",
       "      <td>0</td>\n",
       "      <td>0</td>\n",
       "      <td>1</td>\n",
       "      <td>0</td>\n",
       "      <td>1</td>\n",
       "      <td>1</td>\n",
       "      <td>0</td>\n",
       "      <td>0</td>\n",
       "      <td>0</td>\n",
       "    </tr>\n",
       "    <tr>\n",
       "      <th>3</th>\n",
       "      <td>-0.157645</td>\n",
       "      <td>0.485490</td>\n",
       "      <td>-0.904417</td>\n",
       "      <td>0.230172</td>\n",
       "      <td>1.793389</td>\n",
       "      <td>3</td>\n",
       "      <td>0</td>\n",
       "      <td>1</td>\n",
       "      <td>0</td>\n",
       "      <td>1</td>\n",
       "      <td>0</td>\n",
       "      <td>0</td>\n",
       "      <td>1</td>\n",
       "      <td>0</td>\n",
       "      <td>1</td>\n",
       "      <td>1</td>\n",
       "      <td>0</td>\n",
       "      <td>0</td>\n",
       "      <td>0</td>\n",
       "    </tr>\n",
       "    <tr>\n",
       "      <th>4</th>\n",
       "      <td>-1.477460</td>\n",
       "      <td>-0.075410</td>\n",
       "      <td>-0.691199</td>\n",
       "      <td>0.792388</td>\n",
       "      <td>0.831083</td>\n",
       "      <td>2</td>\n",
       "      <td>0</td>\n",
       "      <td>1</td>\n",
       "      <td>1</td>\n",
       "      <td>0</td>\n",
       "      <td>0</td>\n",
       "      <td>0</td>\n",
       "      <td>1</td>\n",
       "      <td>1</td>\n",
       "      <td>0</td>\n",
       "      <td>1</td>\n",
       "      <td>0</td>\n",
       "      <td>0</td>\n",
       "      <td>0</td>\n",
       "    </tr>\n",
       "  </tbody>\n",
       "</table>\n",
       "</div>"
      ],
      "text/plain": [
       "        age  pression  cholester  taux_max  depression  pic  sexe_feminin  \\\n",
       "0  0.392278 -1.758109  -0.303530  0.273420   -0.831083    1             0   \n",
       "1 -1.477460 -0.075410  -0.885033  0.965378    0.306188    1             1   \n",
       "2  0.392278  1.046389   0.394274 -1.672713   -0.218706    1             0   \n",
       "3 -0.157645  0.485490  -0.904417  0.230172    1.793389    3             0   \n",
       "4 -1.477460 -0.075410  -0.691199  0.792388    0.831083    2             0   \n",
       "\n",
       "   sexe_masculin  sucre_A  sucre_B  electro_A  electro_B  electro_C  \\\n",
       "0              1        1        0          1          0          0   \n",
       "1              0        1        0          0          0          1   \n",
       "2              1        1        0          0          0          1   \n",
       "3              1        0        1          0          0          1   \n",
       "4              1        1        0          0          0          1   \n",
       "\n",
       "   angine_non  angine_oui  vaisseau_A  vaisseau_B  vaisseau_C  vaisseau_D  \n",
       "0           1           0           0           1           0           0  \n",
       "1           1           0           1           0           0           0  \n",
       "2           0           1           1           0           0           0  \n",
       "3           0           1           1           0           0           0  \n",
       "4           1           0           1           0           0           0  "
      ]
     },
     "execution_count": 94,
     "metadata": {},
     "output_type": "execute_result"
    }
   ],
   "source": [
    "df = pd.concat([df_quant,df['pic'],df_quali],axis=1)\n",
    "df.head()"
   ]
  },
  {
   "cell_type": "markdown",
   "id": "13faad2c",
   "metadata": {},
   "source": [
    "- Déclaration des variable pour le modèle"
   ]
  },
  {
   "cell_type": "code",
   "execution_count": 95,
   "id": "3b858d3f",
   "metadata": {},
   "outputs": [
    {
     "name": "stdout",
     "output_type": "stream",
     "text": [
      "(189, 19)\n",
      "(81, 19)\n",
      "(189,)\n",
      "(81,)\n"
     ]
    }
   ],
   "source": [
    "X_train,X_test,y_train,y_test = train_test_split(df, y, test_size=.3, random_state=1)\n",
    "print(X_train.shape)\n",
    "print(X_test.shape)\n",
    "print(y_train.shape)\n",
    "print(y_test.shape)"
   ]
  },
  {
   "cell_type": "markdown",
   "id": "ea25440c",
   "metadata": {},
   "source": [
    "3 - Modèlisation"
   ]
  },
  {
   "cell_type": "markdown",
   "id": "5d468ec7",
   "metadata": {},
   "source": [
    " - Instanciation du model de Regression Linéaire"
   ]
  },
  {
   "cell_type": "code",
   "execution_count": 98,
   "id": "c2ebc252",
   "metadata": {},
   "outputs": [],
   "source": [
    "model = LogisticRegression()"
   ]
  },
  {
   "cell_type": "markdown",
   "id": "bd9eeb03",
   "metadata": {},
   "source": [
    "- Entrainement du modèle"
   ]
  },
  {
   "cell_type": "code",
   "execution_count": 99,
   "id": "ec336c0e",
   "metadata": {},
   "outputs": [
    {
     "data": {
      "text/plain": [
       "LogisticRegression()"
      ]
     },
     "execution_count": 99,
     "metadata": {},
     "output_type": "execute_result"
    }
   ],
   "source": [
    "model.fit(X_train, y_train)"
   ]
  },
  {
   "cell_type": "markdown",
   "id": "5acd7784",
   "metadata": {},
   "source": [
    "- Score du modèle sur les données d'entrainement"
   ]
  },
  {
   "cell_type": "code",
   "execution_count": 102,
   "id": "c421cca6",
   "metadata": {},
   "outputs": [
    {
     "data": {
      "text/plain": [
       "0.8888888888888888"
      ]
     },
     "execution_count": 102,
     "metadata": {},
     "output_type": "execute_result"
    }
   ],
   "source": [
    "train_score = model.score(X_train, y_train)\n",
    "train_score"
   ]
  },
  {
   "cell_type": "markdown",
   "id": "5e3122ad",
   "metadata": {},
   "source": [
    " - Score du modèle sur le données de Test"
   ]
  },
  {
   "cell_type": "code",
   "execution_count": 114,
   "id": "e50c551c",
   "metadata": {},
   "outputs": [
    {
     "data": {
      "text/plain": [
       "0.7901234567901234"
      ]
     },
     "execution_count": 114,
     "metadata": {},
     "output_type": "execute_result"
    }
   ],
   "source": [
    "test_score = model.score(X_test,y_test)\n",
    "test_score"
   ]
  },
  {
   "cell_type": "markdown",
   "id": "1628a11c",
   "metadata": {},
   "source": [
    "- Comparaison du Score d'entrainement et le Score de test"
   ]
  },
  {
   "cell_type": "code",
   "execution_count": 115,
   "id": "34f923bd",
   "metadata": {},
   "outputs": [
    {
     "name": "stdout",
     "output_type": "stream",
     "text": [
      "Le Score d'entrainement est :0.8888888888888888\n",
      "Le score sur les données de Test est :0.7901234567901234\n"
     ]
    }
   ],
   "source": [
    "print(f'Le Score d\\'entrainement est :{train_score}');\n",
    "print(f'Le score sur les données de Test est :{test_score}')"
   ]
  },
  {
   "cell_type": "code",
   "execution_count": 122,
   "id": "35ce9baf",
   "metadata": {},
   "outputs": [],
   "source": [
    "y_pred = model.predict(X_test)"
   ]
  },
  {
   "cell_type": "markdown",
   "id": "558a40ef",
   "metadata": {},
   "source": [
    "- Précision (precision)\n",
    "- Sensibilité (recall)"
   ]
  },
  {
   "cell_type": "code",
   "execution_count": 148,
   "id": "931daf5b",
   "metadata": {},
   "outputs": [
    {
     "name": "stdout",
     "output_type": "stream",
     "text": [
      "              precision    recall  f1-score   support\n",
      "\n",
      "           0       0.81      0.86      0.83        49\n",
      "           1       0.76      0.69      0.72        32\n",
      "\n",
      "    accuracy                           0.79        81\n",
      "   macro avg       0.78      0.77      0.78        81\n",
      "weighted avg       0.79      0.79      0.79        81\n",
      "\n"
     ]
    }
   ],
   "source": [
    "print(classification_report(y_test,y_pred))"
   ]
  },
  {
   "cell_type": "markdown",
   "id": "2c17ea74",
   "metadata": {},
   "source": [
    "- Erreur"
   ]
  },
  {
   "cell_type": "code",
   "execution_count": 123,
   "id": "e6a3a0cd",
   "metadata": {},
   "outputs": [
    {
     "name": "stdout",
     "output_type": "stream",
     "text": [
      "L'erreur du model est 0.2098765432098766\n"
     ]
    }
   ],
   "source": [
    "error = 1 - test_score\n",
    "print(f'L\\'erreur du model est {error}')"
   ]
  },
  {
   "cell_type": "markdown",
   "id": "1e4aef9b",
   "metadata": {},
   "source": [
    "- Instanciation du model de KN plus proche voision"
   ]
  },
  {
   "cell_type": "code",
   "execution_count": 142,
   "id": "a6dd1249",
   "metadata": {},
   "outputs": [
    {
     "data": {
      "text/plain": [
       "KNeighborsClassifier(n_neighbors=1)"
      ]
     },
     "execution_count": 142,
     "metadata": {},
     "output_type": "execute_result"
    }
   ],
   "source": [
    "model_1 = KNeighborsClassifier(n_neighbors=1)\n",
    "model_1.fit(X_train,y_train)"
   ]
  },
  {
   "cell_type": "code",
   "execution_count": 143,
   "id": "2aa5c7b0",
   "metadata": {},
   "outputs": [
    {
     "name": "stdout",
     "output_type": "stream",
     "text": [
      "Train score 1.0\n",
      "Test score 0.7037037037037037\n"
     ]
    }
   ],
   "source": [
    "print('Train score', model_1.score(X_train,y_train))\n",
    "print('Test score', model_1.score(X_test,y_test))"
   ]
  },
  {
   "cell_type": "markdown",
   "id": "b8404d62",
   "metadata": {},
   "source": [
    "- La précision, c'est lorque le modèle prédit positif , quelle est la probabilité pour que cela cela soit vrai.\n",
    "- La sensibilité c'est lorsque l'individu est positif, quelle est la probalité que le modèle dise vrai."
   ]
  },
  {
   "cell_type": "markdown",
   "id": "c0ebfc8a",
   "metadata": {},
   "source": []
  },
  {
   "cell_type": "code",
   "execution_count": null,
   "id": "f5ed0f91",
   "metadata": {},
   "outputs": [],
   "source": []
  }
 ],
 "metadata": {
  "kernelspec": {
   "display_name": "Python 3",
   "language": "python",
   "name": "python3"
  },
  "language_info": {
   "codemirror_mode": {
    "name": "ipython",
    "version": 3
   },
   "file_extension": ".py",
   "mimetype": "text/x-python",
   "name": "python",
   "nbconvert_exporter": "python",
   "pygments_lexer": "ipython3",
   "version": "3.9.5"
  }
 },
 "nbformat": 4,
 "nbformat_minor": 5
}
