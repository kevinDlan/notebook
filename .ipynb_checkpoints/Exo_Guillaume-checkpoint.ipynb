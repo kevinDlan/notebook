{
 "cells": [
  {
   "cell_type": "markdown",
   "id": "aeeaddc9",
   "metadata": {},
   "source": [
    "- Exo 1"
   ]
  },
  {
   "cell_type": "code",
   "execution_count": 1,
   "id": "3ab426f9",
   "metadata": {},
   "outputs": [],
   "source": [
    "#Definition d'une fonction\n",
    "def energiePotentiel(m,h,g=9.18,EL = 150):\n",
    "    E = m*h*g\n",
    "    if(E>EL):\n",
    "        return EL\n",
    "    else:\n",
    "        return E"
   ]
  },
  {
   "cell_type": "code",
   "execution_count": 2,
   "id": "fa4b8993",
   "metadata": {},
   "outputs": [
    {
     "data": {
      "text/plain": [
       "150"
      ]
     },
     "execution_count": 2,
     "metadata": {},
     "output_type": "execute_result"
    }
   ],
   "source": [
    "energiePotentiel(10,5)"
   ]
  },
  {
   "cell_type": "markdown",
   "id": "141fc0b6",
   "metadata": {},
   "source": [
    "- Exo 2"
   ]
  },
  {
   "cell_type": "code",
   "execution_count": 11,
   "id": "bdeae298",
   "metadata": {},
   "outputs": [],
   "source": [
    "def fibonacci(n):\n",
    "    a = 0\n",
    "    b = 1\n",
    "    fib = []\n",
    "    while a < n:\n",
    "        fib.append(a)\n",
    "        a, b = b, a+b\n",
    "    return fib"
   ]
  },
  {
   "cell_type": "code",
   "execution_count": 12,
   "id": "3956208b",
   "metadata": {},
   "outputs": [
    {
     "data": {
      "text/plain": [
       "[0, 1, 1, 2, 3]"
      ]
     },
     "execution_count": 12,
     "metadata": {},
     "output_type": "execute_result"
    }
   ],
   "source": [
    "fibonacci(5)"
   ]
  },
  {
   "cell_type": "markdown",
   "id": "463cc124",
   "metadata": {},
   "source": [
    "- Exo 2"
   ]
  },
  {
   "cell_type": "code",
   "execution_count": 13,
   "id": "029d570b",
   "metadata": {},
   "outputs": [],
   "source": [
    "#Classeur\n",
    "classeur = {\n",
    "    \"positif\":[],\n",
    "    \"négatif\":[]\n",
    "}"
   ]
  },
  {
   "cell_type": "code",
   "execution_count": 16,
   "id": "c63350be",
   "metadata": {},
   "outputs": [],
   "source": [
    "def trier(dic,nbre):\n",
    "    if nbre > 0:\n",
    "        for k,v in dic.items():\n",
    "            if k == 'positif':\n",
    "                v.append(nbre)\n",
    "    else :\n",
    "        for k,v in dic.items():\n",
    "            if k == 'négatif':\n",
    "                v.append(nbre)\n",
    "    return dic\n",
    "    "
   ]
  },
  {
   "cell_type": "code",
   "execution_count": 19,
   "id": "49a8d69e",
   "metadata": {},
   "outputs": [
    {
     "data": {
      "text/plain": [
       "{'positif': [10], 'Negative': []}"
      ]
     },
     "execution_count": 19,
     "metadata": {},
     "output_type": "execute_result"
    }
   ],
   "source": [
    "trier(classeur,-10)"
   ]
  },
  {
   "cell_type": "code",
   "execution_count": null,
   "id": "a8415287",
   "metadata": {},
   "outputs": [],
   "source": []
  }
 ],
 "metadata": {
  "kernelspec": {
   "display_name": "Python 3",
   "language": "python",
   "name": "python3"
  },
  "language_info": {
   "codemirror_mode": {
    "name": "ipython",
    "version": 3
   },
   "file_extension": ".py",
   "mimetype": "text/x-python",
   "name": "python",
   "nbconvert_exporter": "python",
   "pygments_lexer": "ipython3",
   "version": "3.9.5"
  }
 },
 "nbformat": 4,
 "nbformat_minor": 5
}
