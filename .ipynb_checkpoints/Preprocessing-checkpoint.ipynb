{
 "cells": [
  {
   "cell_type": "markdown",
   "id": "c6361edb",
   "metadata": {},
   "source": [
    "# Traitement des Valeurs Aberantes"
   ]
  },
  {
   "cell_type": "markdown",
   "id": "0faa20bf",
   "metadata": {},
   "source": [
    " Lien de L'article : https://medium.com/analytics-vidhya/how-to-remove-outliers-for-machine-learning-24620c4657e8#id_token=eyJhbGciOiJSUzI1NiIsImtpZCI6IjNkZjBhODMxZTA5M2ZhZTFlMjRkNzdkNDc4MzQ0MDVmOTVkMTdiNTQiLCJ0eXAiOiJKV1QifQ.eyJpc3MiOiJodHRwczovL2FjY291bnRzLmdvb2dsZS5jb20iLCJuYmYiOjE2Mjc1MDIxODEsImF1ZCI6IjIxNjI5NjAzNTgzNC1rMWs2cWUwNjBzMnRwMmEyamFtNGxqZGNtczAwc3R0Zy5hcHBzLmdvb2dsZXVzZXJjb250ZW50LmNvbSIsInN1YiI6IjEwNzkyNzg2MTQ2MzQyNzkyMjUzNyIsImVtYWlsIjoia2V2aW5rb25lMTlAZ21haWwuY29tIiwiZW1haWxfdmVyaWZpZWQiOnRydWUsImF6cCI6IjIxNjI5NjAzNTgzNC1rMWs2cWUwNjBzMnRwMmEyamFtNGxqZGNtczAwc3R0Zy5hcHBzLmdvb2dsZXVzZXJjb250ZW50LmNvbSIsIm5hbWUiOiJLZXZpbiBLT05FIiwicGljdHVyZSI6Imh0dHBzOi8vbGgzLmdvb2dsZXVzZXJjb250ZW50LmNvbS9hLS9BT2gxNEdnS0Uyakk4UXJWeTF2VFJLdTB0VWFVVkpSUEJ1cl9sQU50UE45UEZRPXM5Ni1jIiwiZ2l2ZW5fbmFtZSI6IktldmluIiwiZmFtaWx5X25hbWUiOiJLT05FIiwiaWF0IjoxNjI3NTAyNDgxLCJleHAiOjE2Mjc1MDYwODEsImp0aSI6IjczNGJlZDMzMTJmZGUxNzg2MGNhMDJjOTdhNDJjZWQzNmY2MjJiMjUifQ.R_HSBXhJkceXKYcLDe13Ur2AmVuZJz5PxYZIxIz9L7WZR-Cs7LNlymejt3Osv5Kdr_sBHcdb7guvrpf19Uz6KVWwmYUEZcVAKVLfmb25nW0ESkvVtoX6MEOVVKuCstrRalf6_gxaiypILukDY_rv44issrVtrIDWTNGbPggW7vki_JU71UDElbEriyAfzPjdqDQTFtiJ7Xee5x9PRELoZcj8YcwzqF7h4dbV5dSqdQU5hl-C1hhXvOpuad0Vz2rydvlRE-8Ssx1Ugmt49PZtGdXqsRk-yDJHSf8U8bdKwNoADjphjtfeLFyIVaYlloMkHCmqQVR3z4ldkPTkUgtH7w"
   ]
  },
  {
   "cell_type": "markdown",
   "id": "02c6df77",
   "metadata": {},
   "source": [
    "1 - Fonction de Suppression des Valeurs Aberrantes"
   ]
  },
  {
   "cell_type": "code",
   "execution_count": 5,
   "id": "9df352ec",
   "metadata": {},
   "outputs": [],
   "source": [
    "import numpy as np\n",
    "from sklearn.preprocessing import StandardScaler\n",
    "import scipy"
   ]
  },
  {
   "cell_type": "code",
   "execution_count": null,
   "id": "76cb0e76",
   "metadata": {},
   "outputs": [],
   "source": [
    "def drop_outliers(df,nom_champ):\n",
    "    iqr = 1.5 * (np.percentile(df[nom_champ]),75) - np.percentile(df[nom_champ],25)\n",
    "    df.drop(df[df[nom_champ] > (iqr + np.percentile(df[nom_champ],75))].index, inplace = True)\n",
    "    df.drop(df[df[nom_champ] < (np.percentile(df[nom_champ],25) - iqr)].index, inplace = True)"
   ]
  },
  {
   "cell_type": "markdown",
   "id": "20fb75a9",
   "metadata": {},
   "source": [
    "2 - Transformation (Mise à l'échelle)"
   ]
  },
  {
   "cell_type": "code",
   "execution_count": null,
   "id": "137e1dde",
   "metadata": {},
   "outputs": [],
   "source": [
    "scaler = StandardScaler()\n",
    "df['nom_col'] = scaler.fit_transform(df['nom_col'].values.reshape(-1,1))"
   ]
  },
  {
   "cell_type": "markdown",
   "id": "8c94a27d",
   "metadata": {},
   "source": [
    "3 - Log Transformation(Log transformation)"
   ]
  },
  {
   "cell_type": "code",
   "execution_count": null,
   "id": "2a20a244",
   "metadata": {},
   "outputs": [],
   "source": [
    "df['nom_col'] = np.log(df['nom_col'])"
   ]
  },
  {
   "cell_type": "markdown",
   "id": "2559907f",
   "metadata": {},
   "source": [
    "4 - Normalisation de la racine cubique"
   ]
  },
  {
   "cell_type": "code",
   "execution_count": null,
   "id": "79538ad3",
   "metadata": {},
   "outputs": [],
   "source": [
    "df['nom_col'] = (df['nom_col']**1/3)"
   ]
  },
  {
   "cell_type": "markdown",
   "id": "ee905ee8",
   "metadata": {},
   "source": [
    "5 - Box-transformation (Dans toutes ces méthodes, la transformation box cox donne le meilleur résultat)"
   ]
  },
  {
   "cell_type": "code",
   "execution_count": null,
   "id": "f86a7c22",
   "metadata": {},
   "outputs": [],
   "source": [
    "df['nom_col'],fitted_lmbda = scipy.stats.boxcox(df['nom_col'],lmbda=None)"
   ]
  },
  {
   "cell_type": "markdown",
   "id": "037456a9",
   "metadata": {},
   "source": [
    "6 - Impuation"
   ]
  },
  {
   "cell_type": "markdown",
   "id": "28c86b9b",
   "metadata": {},
   "source": [
    "Comme pour l'imputation des valeurs manquantes, nous pouvons également imputer des valeurs aberrantes. Nous pouvons utiliser la moyenne, la médiane et la valeur zéro dans ces méthodes. Étant donné que nous imputons, il n'y a pas de perte de données. Ici, la médiane est appropriée car elle n'est pas affectée par les valeurs aberrantes. "
   ]
  },
  {
   "cell_type": "code",
   "execution_count": null,
   "id": "63e4e7b7",
   "metadata": {},
   "outputs": [],
   "source": [
    "#Imputation par la moyenne\n",
    "for val in df['col_name']:\n",
    "    q1 = df['col_name'].quantile(0.25)\n",
    "    q3 = df['col_name'].quantile(0.75)\n",
    "    iqr = q3 - q1\n",
    "    Lower_tail = q1 - 1.5 * iqr\n",
    "    Upper_tail = q3 + 1.5 * iqr\n",
    "    if i > Upper_tail or i < Lower_tail :\n",
    "        df['nom_col'] = df['nom_col'].replace(i, np.mean(df['nom_col']))\n",
    "    "
   ]
  },
  {
   "cell_type": "code",
   "execution_count": null,
   "id": "79a89041",
   "metadata": {},
   "outputs": [],
   "source": [
    "#Imputation par la mediane\n",
    "for val in df['col_name']:\n",
    "    q1 = df['col_name'].quantile(0.25)\n",
    "    q3 = df['col_name'].quantile(0.75)\n",
    "    iqr = q3 - q1\n",
    "    Lower_tail = q1 - 1.5 * iqr\n",
    "    Upper_tail = q3 + 1.5 * iqr\n",
    "    if i > Upper_tail or i < Lower_tail :\n",
    "        df['nom_col'] = df['nom_col'].replace(i, np.median(df['nom_col']))\n",
    "    "
   ]
  },
  {
   "cell_type": "code",
   "execution_count": null,
   "id": "db729cc2",
   "metadata": {},
   "outputs": [],
   "source": [
    "#Imputation par Zero\n",
    "for val in df['col_name']:\n",
    "    q1 = df['col_name'].quantile(0.25)\n",
    "    q3 = df['col_name'].quantile(0.75)\n",
    "    iqr = q3 - q1\n",
    "    Lower_tail = q1 - 1.5 * iqr\n",
    "    Upper_tail = q3 + 1.5 * iqr\n",
    "    if i > Upper_tail or i < Lower_tail :\n",
    "        df['nom_col'] = df['nom_col'].replace(i,0)\n",
    "    "
   ]
  }
 ],
 "metadata": {
  "kernelspec": {
   "display_name": "Python 3",
   "language": "python",
   "name": "python3"
  },
  "language_info": {
   "codemirror_mode": {
    "name": "ipython",
    "version": 3
   },
   "file_extension": ".py",
   "mimetype": "text/x-python",
   "name": "python",
   "nbconvert_exporter": "python",
   "pygments_lexer": "ipython3",
   "version": "3.9.5"
  }
 },
 "nbformat": 4,
 "nbformat_minor": 5
}
