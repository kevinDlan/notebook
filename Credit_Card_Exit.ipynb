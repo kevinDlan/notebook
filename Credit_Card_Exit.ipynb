{
 "cells": [
  {
   "cell_type": "markdown",
   "id": "e960a4b1",
   "metadata": {},
   "source": [
    "# Exo de Classe (Bank Exited)"
   ]
  },
  {
   "cell_type": "markdown",
   "id": "e1e50382",
   "metadata": {},
   "source": [
    "## Importation des packages et Modules"
   ]
  },
  {
   "cell_type": "code",
   "execution_count": 36,
   "id": "5ac5b9b8",
   "metadata": {},
   "outputs": [],
   "source": [
    "import numpy as np\n",
    "import matplotlib.pyplot as plt\n",
    "import pandas as pd\n",
    "import seaborn as sns\n",
    "from sklearn.svm import LinearSVC\n",
    "from sklearn.model_selection import train_test_split,learning_curve, GridSearchCV, validation_curve\n",
    "from sklearn.preprocessing import StandardScaler\n",
    "from sklearn.metrics import classification_report,confusion_matrix\n",
    "from sklearn.ensemble import RandomForestClassifier,GradientBoostingClassifier\n",
    "from scipy import stats\n",
    "from sklearn.neighbors import KNeighborsClassifier\n",
    "import warnings\n",
    "warnings.filterwarnings('ignore')\n",
    "sns.set()"
   ]
  },
  {
   "cell_type": "code",
   "execution_count": null,
   "id": "71b9d511",
   "metadata": {},
   "outputs": [],
   "source": []
  },
  {
   "cell_type": "markdown",
   "id": "242a5b91",
   "metadata": {},
   "source": [
    "## 1 - Chargement du Dataset"
   ]
  },
  {
   "cell_type": "code",
   "execution_count": 2,
   "id": "a2847338",
   "metadata": {},
   "outputs": [],
   "source": [
    "df = pd.read_csv('bank.csv', sep=';',na_values='Unknown')"
   ]
  },
  {
   "cell_type": "code",
   "execution_count": 3,
   "id": "f772ca59",
   "metadata": {},
   "outputs": [
    {
     "data": {
      "text/html": [
       "<div>\n",
       "<style scoped>\n",
       "    .dataframe tbody tr th:only-of-type {\n",
       "        vertical-align: middle;\n",
       "    }\n",
       "\n",
       "    .dataframe tbody tr th {\n",
       "        vertical-align: top;\n",
       "    }\n",
       "\n",
       "    .dataframe thead th {\n",
       "        text-align: right;\n",
       "    }\n",
       "</style>\n",
       "<table border=\"1\" class=\"dataframe\">\n",
       "  <thead>\n",
       "    <tr style=\"text-align: right;\">\n",
       "      <th></th>\n",
       "      <th>CLIENTNUM</th>\n",
       "      <th>Attrition_Flag</th>\n",
       "      <th>Customer_Age</th>\n",
       "      <th>Gender</th>\n",
       "      <th>Dependent_count</th>\n",
       "      <th>Education_Level</th>\n",
       "      <th>Marital_Status</th>\n",
       "      <th>Income_Category</th>\n",
       "      <th>Card_Category</th>\n",
       "      <th>Months_on_book</th>\n",
       "      <th>...</th>\n",
       "      <th>Months_Inactive_12_mon</th>\n",
       "      <th>Contacts_Count_12_mon</th>\n",
       "      <th>Credit_Limit</th>\n",
       "      <th>Total_Revolving_Bal</th>\n",
       "      <th>Avg_Open_To_Buy</th>\n",
       "      <th>Total_Amt_Chng_Q4_Q1</th>\n",
       "      <th>Total_Trans_Amt</th>\n",
       "      <th>Total_Trans_Ct</th>\n",
       "      <th>Total_Ct_Chng_Q4_Q1</th>\n",
       "      <th>Avg_Utilization_Ratio</th>\n",
       "    </tr>\n",
       "  </thead>\n",
       "  <tbody>\n",
       "    <tr>\n",
       "      <th>0</th>\n",
       "      <td>768805383</td>\n",
       "      <td>Existing Customer</td>\n",
       "      <td>45</td>\n",
       "      <td>M</td>\n",
       "      <td>3</td>\n",
       "      <td>High School</td>\n",
       "      <td>Married</td>\n",
       "      <td>$60K - $80K</td>\n",
       "      <td>Blue</td>\n",
       "      <td>39</td>\n",
       "      <td>...</td>\n",
       "      <td>1</td>\n",
       "      <td>3</td>\n",
       "      <td>12691.0</td>\n",
       "      <td>777</td>\n",
       "      <td>11914.0</td>\n",
       "      <td>1.335</td>\n",
       "      <td>1144</td>\n",
       "      <td>42</td>\n",
       "      <td>1.625</td>\n",
       "      <td>0.061</td>\n",
       "    </tr>\n",
       "    <tr>\n",
       "      <th>1</th>\n",
       "      <td>818770008</td>\n",
       "      <td>Existing Customer</td>\n",
       "      <td>49</td>\n",
       "      <td>F</td>\n",
       "      <td>5</td>\n",
       "      <td>Graduate</td>\n",
       "      <td>Single</td>\n",
       "      <td>Less than $40K</td>\n",
       "      <td>Blue</td>\n",
       "      <td>44</td>\n",
       "      <td>...</td>\n",
       "      <td>1</td>\n",
       "      <td>2</td>\n",
       "      <td>8256.0</td>\n",
       "      <td>864</td>\n",
       "      <td>7392.0</td>\n",
       "      <td>1.541</td>\n",
       "      <td>1291</td>\n",
       "      <td>33</td>\n",
       "      <td>3.714</td>\n",
       "      <td>0.105</td>\n",
       "    </tr>\n",
       "    <tr>\n",
       "      <th>2</th>\n",
       "      <td>713982108</td>\n",
       "      <td>Existing Customer</td>\n",
       "      <td>51</td>\n",
       "      <td>M</td>\n",
       "      <td>3</td>\n",
       "      <td>Graduate</td>\n",
       "      <td>Married</td>\n",
       "      <td>$80K - $120K</td>\n",
       "      <td>Blue</td>\n",
       "      <td>36</td>\n",
       "      <td>...</td>\n",
       "      <td>1</td>\n",
       "      <td>0</td>\n",
       "      <td>3418.0</td>\n",
       "      <td>0</td>\n",
       "      <td>3418.0</td>\n",
       "      <td>2.594</td>\n",
       "      <td>1887</td>\n",
       "      <td>20</td>\n",
       "      <td>2.333</td>\n",
       "      <td>0.000</td>\n",
       "    </tr>\n",
       "    <tr>\n",
       "      <th>3</th>\n",
       "      <td>769911858</td>\n",
       "      <td>Existing Customer</td>\n",
       "      <td>40</td>\n",
       "      <td>F</td>\n",
       "      <td>4</td>\n",
       "      <td>High School</td>\n",
       "      <td>NaN</td>\n",
       "      <td>Less than $40K</td>\n",
       "      <td>Blue</td>\n",
       "      <td>34</td>\n",
       "      <td>...</td>\n",
       "      <td>4</td>\n",
       "      <td>1</td>\n",
       "      <td>3313.0</td>\n",
       "      <td>2517</td>\n",
       "      <td>796.0</td>\n",
       "      <td>1.405</td>\n",
       "      <td>1171</td>\n",
       "      <td>20</td>\n",
       "      <td>2.333</td>\n",
       "      <td>0.760</td>\n",
       "    </tr>\n",
       "    <tr>\n",
       "      <th>4</th>\n",
       "      <td>709106358</td>\n",
       "      <td>Existing Customer</td>\n",
       "      <td>40</td>\n",
       "      <td>M</td>\n",
       "      <td>3</td>\n",
       "      <td>Uneducated</td>\n",
       "      <td>Married</td>\n",
       "      <td>$60K - $80K</td>\n",
       "      <td>Blue</td>\n",
       "      <td>21</td>\n",
       "      <td>...</td>\n",
       "      <td>1</td>\n",
       "      <td>0</td>\n",
       "      <td>4716.0</td>\n",
       "      <td>0</td>\n",
       "      <td>4716.0</td>\n",
       "      <td>2.175</td>\n",
       "      <td>816</td>\n",
       "      <td>28</td>\n",
       "      <td>2.500</td>\n",
       "      <td>0.000</td>\n",
       "    </tr>\n",
       "  </tbody>\n",
       "</table>\n",
       "<p>5 rows × 21 columns</p>\n",
       "</div>"
      ],
      "text/plain": [
       "   CLIENTNUM     Attrition_Flag  Customer_Age Gender  Dependent_count  \\\n",
       "0  768805383  Existing Customer            45      M                3   \n",
       "1  818770008  Existing Customer            49      F                5   \n",
       "2  713982108  Existing Customer            51      M                3   \n",
       "3  769911858  Existing Customer            40      F                4   \n",
       "4  709106358  Existing Customer            40      M                3   \n",
       "\n",
       "  Education_Level Marital_Status Income_Category Card_Category  \\\n",
       "0     High School        Married     $60K - $80K          Blue   \n",
       "1        Graduate         Single  Less than $40K          Blue   \n",
       "2        Graduate        Married    $80K - $120K          Blue   \n",
       "3     High School            NaN  Less than $40K          Blue   \n",
       "4      Uneducated        Married     $60K - $80K          Blue   \n",
       "\n",
       "   Months_on_book  ...  Months_Inactive_12_mon  Contacts_Count_12_mon  \\\n",
       "0              39  ...                       1                      3   \n",
       "1              44  ...                       1                      2   \n",
       "2              36  ...                       1                      0   \n",
       "3              34  ...                       4                      1   \n",
       "4              21  ...                       1                      0   \n",
       "\n",
       "   Credit_Limit  Total_Revolving_Bal  Avg_Open_To_Buy  Total_Amt_Chng_Q4_Q1  \\\n",
       "0       12691.0                  777          11914.0                 1.335   \n",
       "1        8256.0                  864           7392.0                 1.541   \n",
       "2        3418.0                    0           3418.0                 2.594   \n",
       "3        3313.0                 2517            796.0                 1.405   \n",
       "4        4716.0                    0           4716.0                 2.175   \n",
       "\n",
       "   Total_Trans_Amt  Total_Trans_Ct  Total_Ct_Chng_Q4_Q1  Avg_Utilization_Ratio  \n",
       "0             1144              42                1.625                  0.061  \n",
       "1             1291              33                3.714                  0.105  \n",
       "2             1887              20                2.333                  0.000  \n",
       "3             1171              20                2.333                  0.760  \n",
       "4              816              28                2.500                  0.000  \n",
       "\n",
       "[5 rows x 21 columns]"
      ]
     },
     "execution_count": 3,
     "metadata": {},
     "output_type": "execute_result"
    }
   ],
   "source": [
    "df.head()"
   ]
  },
  {
   "cell_type": "code",
   "execution_count": 4,
   "id": "f674af42",
   "metadata": {},
   "outputs": [],
   "source": [
    "data = df.copy()"
   ]
  },
  {
   "cell_type": "markdown",
   "id": "d06f68df",
   "metadata": {},
   "source": [
    "# 2 - Prétraitement du Dataset"
   ]
  },
  {
   "cell_type": "markdown",
   "id": "76aa3375",
   "metadata": {},
   "source": [
    "* Suppression des Valeurs Manquante"
   ]
  },
  {
   "cell_type": "code",
   "execution_count": 5,
   "id": "9d0ccf76",
   "metadata": {},
   "outputs": [],
   "source": [
    "data = data.drop(['CLIENTNUM'],axis=1)\n",
    "data = data.dropna(axis=0)"
   ]
  },
  {
   "cell_type": "markdown",
   "id": "98323695",
   "metadata": {},
   "source": [
    "* Encodage des variables Qualitative Nominale et Qualitative Ordinale"
   ]
  },
  {
   "cell_type": "markdown",
   "id": "28ef1961",
   "metadata": {},
   "source": [
    "- Variable Qualitative Nominale"
   ]
  },
  {
   "cell_type": "code",
   "execution_count": 6,
   "id": "90461885",
   "metadata": {},
   "outputs": [
    {
     "data": {
      "text/html": [
       "<div>\n",
       "<style scoped>\n",
       "    .dataframe tbody tr th:only-of-type {\n",
       "        vertical-align: middle;\n",
       "    }\n",
       "\n",
       "    .dataframe tbody tr th {\n",
       "        vertical-align: top;\n",
       "    }\n",
       "\n",
       "    .dataframe thead th {\n",
       "        text-align: right;\n",
       "    }\n",
       "</style>\n",
       "<table border=\"1\" class=\"dataframe\">\n",
       "  <thead>\n",
       "    <tr style=\"text-align: right;\">\n",
       "      <th></th>\n",
       "      <th>Gender_M</th>\n",
       "      <th>Marital_Status_Married</th>\n",
       "      <th>Marital_Status_Single</th>\n",
       "    </tr>\n",
       "  </thead>\n",
       "  <tbody>\n",
       "    <tr>\n",
       "      <th>0</th>\n",
       "      <td>1</td>\n",
       "      <td>1</td>\n",
       "      <td>0</td>\n",
       "    </tr>\n",
       "    <tr>\n",
       "      <th>1</th>\n",
       "      <td>0</td>\n",
       "      <td>0</td>\n",
       "      <td>1</td>\n",
       "    </tr>\n",
       "    <tr>\n",
       "      <th>2</th>\n",
       "      <td>1</td>\n",
       "      <td>1</td>\n",
       "      <td>0</td>\n",
       "    </tr>\n",
       "    <tr>\n",
       "      <th>4</th>\n",
       "      <td>1</td>\n",
       "      <td>1</td>\n",
       "      <td>0</td>\n",
       "    </tr>\n",
       "    <tr>\n",
       "      <th>5</th>\n",
       "      <td>1</td>\n",
       "      <td>1</td>\n",
       "      <td>0</td>\n",
       "    </tr>\n",
       "    <tr>\n",
       "      <th>...</th>\n",
       "      <td>...</td>\n",
       "      <td>...</td>\n",
       "      <td>...</td>\n",
       "    </tr>\n",
       "    <tr>\n",
       "      <th>10120</th>\n",
       "      <td>1</td>\n",
       "      <td>0</td>\n",
       "      <td>1</td>\n",
       "    </tr>\n",
       "    <tr>\n",
       "      <th>10121</th>\n",
       "      <td>0</td>\n",
       "      <td>0</td>\n",
       "      <td>1</td>\n",
       "    </tr>\n",
       "    <tr>\n",
       "      <th>10122</th>\n",
       "      <td>1</td>\n",
       "      <td>0</td>\n",
       "      <td>1</td>\n",
       "    </tr>\n",
       "    <tr>\n",
       "      <th>10124</th>\n",
       "      <td>0</td>\n",
       "      <td>1</td>\n",
       "      <td>0</td>\n",
       "    </tr>\n",
       "    <tr>\n",
       "      <th>10126</th>\n",
       "      <td>0</td>\n",
       "      <td>1</td>\n",
       "      <td>0</td>\n",
       "    </tr>\n",
       "  </tbody>\n",
       "</table>\n",
       "<p>7081 rows × 3 columns</p>\n",
       "</div>"
      ],
      "text/plain": [
       "       Gender_M  Marital_Status_Married  Marital_Status_Single\n",
       "0             1                       1                      0\n",
       "1             0                       0                      1\n",
       "2             1                       1                      0\n",
       "4             1                       1                      0\n",
       "5             1                       1                      0\n",
       "...         ...                     ...                    ...\n",
       "10120         1                       0                      1\n",
       "10121         0                       0                      1\n",
       "10122         1                       0                      1\n",
       "10124         0                       1                      0\n",
       "10126         0                       1                      0\n",
       "\n",
       "[7081 rows x 3 columns]"
      ]
     },
     "execution_count": 6,
     "metadata": {},
     "output_type": "execute_result"
    }
   ],
   "source": [
    "df_quanti = data.select_dtypes(exclude=object)\n",
    "df_quali_nom = data.select_dtypes(exclude=['int64','float64']).drop(['Income_Category','Education_Level','Card_Category','Attrition_Flag'],axis=1)\n",
    "df_quali_nom = pd.get_dummies(df_quali_nom,drop_first=True)\n",
    "df_quali_nom"
   ]
  },
  {
   "cell_type": "markdown",
   "id": "e0de8fd1",
   "metadata": {},
   "source": [
    "- Variable Qualitative Ordinale"
   ]
  },
  {
   "cell_type": "code",
   "execution_count": 7,
   "id": "399fdee2",
   "metadata": {},
   "outputs": [],
   "source": [
    "#Encodage des variable qualitative ordinale\n",
    "data['Card_Category'] = data['Card_Category'].replace(['Blue','Silver','Gold','Platinum'],[0,1,2,3])\n",
    "\n",
    "data['Income_Category'] = \\\n",
    "    data['Income_Category'].\\\n",
    "    replace(['Less than $40K','$40K - $60K','$80K - $120K','$60K - $80K','$120K +'],\\\n",
    "    [0,1,2,3,4])\n",
    "\n",
    "data['Education_Level'] = \\\n",
    "    data['Education_Level'].\\\n",
    "    replace(['Graduate','High School','Uneducated','College','Post-Graduate','Doctorate'],\\\n",
    "    [3,2,0,1,4,5])"
   ]
  },
  {
   "cell_type": "markdown",
   "id": "42a31a6a",
   "metadata": {},
   "source": [
    "- Variable Cible"
   ]
  },
  {
   "cell_type": "code",
   "execution_count": 8,
   "id": "f72e38e8",
   "metadata": {},
   "outputs": [],
   "source": [
    "# Encodage de la variable cible\n",
    "data['Attrition_Flag'] = data['Attrition_Flag'].replace(['Existing Customer','Attrited Customer'],[0,1])"
   ]
  },
  {
   "cell_type": "markdown",
   "id": "2cf5fbed",
   "metadata": {},
   "source": [
    "- Normalisation des variable Quantitative et Traitement des Valeurs Aberrantes"
   ]
  },
  {
   "cell_type": "markdown",
   "id": "5c29919c",
   "metadata": {},
   "source": [
    "* Traitement des Valeurs Aberrantes"
   ]
  },
  {
   "cell_type": "code",
   "execution_count": 9,
   "id": "d4f544f1",
   "metadata": {
    "scrolled": true
   },
   "outputs": [
    {
     "data": {
      "image/png": "[encoded data removed]",
      "text/plain": [
       "<Figure size 1800x864 with 1 Axes>"
      ]
     },
     "metadata": {},
     "output_type": "display_data"
    }
   ],
   "source": [
    "#Verification de l'échelle des variable\n",
    "plt.figure(figsize=(25,12))\n",
    "sns.boxplot(data=df_quanti)\n",
    "plt.show()"
   ]
  },
  {
   "cell_type": "code",
   "execution_count": null,
   "id": "7949bdaa",
   "metadata": {},
   "outputs": [],
   "source": []
  },
  {
   "cell_type": "code",
   "execution_count": 10,
   "id": "6264ae04",
   "metadata": {},
   "outputs": [],
   "source": [
    "df_quanti['Credit_Limit'],fitted_lmda = stats.boxcox(df_quanti['Credit_Limit'],lmbda=None)\n",
    "df_quanti['Total_Trans_Amt'],fitted_lmda = stats.boxcox(df_quanti['Total_Trans_Amt'],lmbda=None)\n",
    "df_quanti['Avg_Open_To_Buy'],fitted_lmda = stats.boxcox(df_quanti['Avg_Open_To_Buy'],lmbda=None)"
   ]
  },
  {
   "cell_type": "code",
   "execution_count": 11,
   "id": "fea2e7ae",
   "metadata": {},
   "outputs": [],
   "source": [
    "#sns.boxplot(data=df_quanti['Credit_Limit'])"
   ]
  },
  {
   "cell_type": "markdown",
   "id": "50bbe61b",
   "metadata": {},
   "source": [
    "* Normalisation des Variable quatitatives"
   ]
  },
  {
   "cell_type": "code",
   "execution_count": 12,
   "id": "d6e56b31",
   "metadata": {},
   "outputs": [
    {
     "data": {
      "text/html": [
       "<div>\n",
       "<style scoped>\n",
       "    .dataframe tbody tr th:only-of-type {\n",
       "        vertical-align: middle;\n",
       "    }\n",
       "\n",
       "    .dataframe tbody tr th {\n",
       "        vertical-align: top;\n",
       "    }\n",
       "\n",
       "    .dataframe thead th {\n",
       "        text-align: right;\n",
       "    }\n",
       "</style>\n",
       "<table border=\"1\" class=\"dataframe\">\n",
       "  <thead>\n",
       "    <tr style=\"text-align: right;\">\n",
       "      <th></th>\n",
       "      <th>Customer_Age</th>\n",
       "      <th>Dependent_count</th>\n",
       "      <th>Months_on_book</th>\n",
       "      <th>Total_Relationship_Count</th>\n",
       "      <th>Months_Inactive_12_mon</th>\n",
       "      <th>Contacts_Count_12_mon</th>\n",
       "      <th>Credit_Limit</th>\n",
       "      <th>Total_Revolving_Bal</th>\n",
       "      <th>Avg_Open_To_Buy</th>\n",
       "      <th>Total_Amt_Chng_Q4_Q1</th>\n",
       "      <th>Total_Trans_Amt</th>\n",
       "      <th>Total_Trans_Ct</th>\n",
       "      <th>Total_Ct_Chng_Q4_Q1</th>\n",
       "      <th>Avg_Utilization_Ratio</th>\n",
       "    </tr>\n",
       "  </thead>\n",
       "  <tbody>\n",
       "    <tr>\n",
       "      <th>0</th>\n",
       "      <td>-0.167610</td>\n",
       "      <td>0.512710</td>\n",
       "      <td>0.377234</td>\n",
       "      <td>0.764487</td>\n",
       "      <td>-1.349309</td>\n",
       "      <td>0.493777</td>\n",
       "      <td>0.990943</td>\n",
       "      <td>-0.480760</td>\n",
       "      <td>0.953855</td>\n",
       "      <td>2.574433</td>\n",
       "      <td>-1.769626</td>\n",
       "      <td>-0.945214</td>\n",
       "      <td>3.827331</td>\n",
       "      <td>-0.794057</td>\n",
       "    </tr>\n",
       "    <tr>\n",
       "      <th>1</th>\n",
       "      <td>0.329862</td>\n",
       "      <td>2.061228</td>\n",
       "      <td>1.002074</td>\n",
       "      <td>1.412015</td>\n",
       "      <td>-1.349309</td>\n",
       "      <td>-0.411332</td>\n",
       "      <td>0.604093</td>\n",
       "      <td>-0.373652</td>\n",
       "      <td>0.584844</td>\n",
       "      <td>3.497689</td>\n",
       "      <td>-1.556406</td>\n",
       "      <td>-1.323244</td>\n",
       "      <td>12.579779</td>\n",
       "      <td>-0.636187</td>\n",
       "    </tr>\n",
       "    <tr>\n",
       "      <th>2</th>\n",
       "      <td>0.578598</td>\n",
       "      <td>0.512710</td>\n",
       "      <td>0.002330</td>\n",
       "      <td>0.116959</td>\n",
       "      <td>-1.349309</td>\n",
       "      <td>-2.221550</td>\n",
       "      <td>-0.374612</td>\n",
       "      <td>-1.437353</td>\n",
       "      <td>-0.003495</td>\n",
       "      <td>8.217051</td>\n",
       "      <td>-0.911509</td>\n",
       "      <td>-1.869287</td>\n",
       "      <td>6.793694</td>\n",
       "      <td>-1.012921</td>\n",
       "    </tr>\n",
       "    <tr>\n",
       "      <th>4</th>\n",
       "      <td>-0.789449</td>\n",
       "      <td>0.512710</td>\n",
       "      <td>-1.872192</td>\n",
       "      <td>0.764487</td>\n",
       "      <td>-1.349309</td>\n",
       "      <td>-2.221550</td>\n",
       "      <td>0.014602</td>\n",
       "      <td>-1.437353</td>\n",
       "      <td>0.240846</td>\n",
       "      <td>6.339166</td>\n",
       "      <td>-2.386491</td>\n",
       "      <td>-1.533260</td>\n",
       "      <td>7.493388</td>\n",
       "      <td>-1.012921</td>\n",
       "    </tr>\n",
       "    <tr>\n",
       "      <th>5</th>\n",
       "      <td>-0.291978</td>\n",
       "      <td>-0.261549</td>\n",
       "      <td>0.002330</td>\n",
       "      <td>-0.530569</td>\n",
       "      <td>-1.349309</td>\n",
       "      <td>-0.411332</td>\n",
       "      <td>-0.176526</td>\n",
       "      <td>0.097873</td>\n",
       "      <td>-0.164044</td>\n",
       "      <td>2.758188</td>\n",
       "      <td>-1.859293</td>\n",
       "      <td>-1.701273</td>\n",
       "      <td>0.563494</td>\n",
       "      <td>0.102927</td>\n",
       "    </tr>\n",
       "    <tr>\n",
       "      <th>...</th>\n",
       "      <td>...</td>\n",
       "      <td>...</td>\n",
       "      <td>...</td>\n",
       "      <td>...</td>\n",
       "      <td>...</td>\n",
       "      <td>...</td>\n",
       "      <td>...</td>\n",
       "      <td>...</td>\n",
       "      <td>...</td>\n",
       "      <td>...</td>\n",
       "      <td>...</td>\n",
       "      <td>...</td>\n",
       "      <td>...</td>\n",
       "      <td>...</td>\n",
       "    </tr>\n",
       "    <tr>\n",
       "      <th>10120</th>\n",
       "      <td>0.951702</td>\n",
       "      <td>-1.035808</td>\n",
       "      <td>-0.247607</td>\n",
       "      <td>0.764487</td>\n",
       "      <td>-0.344317</td>\n",
       "      <td>-2.221550</td>\n",
       "      <td>1.068634</td>\n",
       "      <td>1.159112</td>\n",
       "      <td>0.948423</td>\n",
       "      <td>-0.450798</td>\n",
       "      <td>2.075651</td>\n",
       "      <td>2.079024</td>\n",
       "      <td>0.178034</td>\n",
       "      <td>-0.471142</td>\n",
       "    </tr>\n",
       "    <tr>\n",
       "      <th>10121</th>\n",
       "      <td>1.200438</td>\n",
       "      <td>-1.035808</td>\n",
       "      <td>1.751883</td>\n",
       "      <td>0.116959</td>\n",
       "      <td>-1.349309</td>\n",
       "      <td>1.398886</td>\n",
       "      <td>-0.279082</td>\n",
       "      <td>-0.691285</td>\n",
       "      <td>-0.081679</td>\n",
       "      <td>-0.854163</td>\n",
       "      <td>1.997023</td>\n",
       "      <td>2.331044</td>\n",
       "      <td>0.333056</td>\n",
       "      <td>-0.424499</td>\n",
       "    </tr>\n",
       "    <tr>\n",
       "      <th>10122</th>\n",
       "      <td>0.454230</td>\n",
       "      <td>-0.261549</td>\n",
       "      <td>0.502202</td>\n",
       "      <td>-0.530569</td>\n",
       "      <td>-0.344317</td>\n",
       "      <td>0.493777</td>\n",
       "      <td>-0.178639</td>\n",
       "      <td>0.841479</td>\n",
       "      <td>-0.351712</td>\n",
       "      <td>-0.258080</td>\n",
       "      <td>2.067822</td>\n",
       "      <td>2.205034</td>\n",
       "      <td>0.609581</td>\n",
       "      <td>0.644706</td>\n",
       "    </tr>\n",
       "    <tr>\n",
       "      <th>10124</th>\n",
       "      <td>-0.291978</td>\n",
       "      <td>-1.035808</td>\n",
       "      <td>0.002330</td>\n",
       "      <td>0.764487</td>\n",
       "      <td>0.660674</td>\n",
       "      <td>1.398886</td>\n",
       "      <td>0.168718</td>\n",
       "      <td>-1.437353</td>\n",
       "      <td>0.345431</td>\n",
       "      <td>0.261812</td>\n",
       "      <td>1.561194</td>\n",
       "      <td>-0.189154</td>\n",
       "      <td>0.446180</td>\n",
       "      <td>-1.012921</td>\n",
       "    </tr>\n",
       "    <tr>\n",
       "      <th>10126</th>\n",
       "      <td>-0.416345</td>\n",
       "      <td>-0.261549</td>\n",
       "      <td>-1.372319</td>\n",
       "      <td>1.412015</td>\n",
       "      <td>-0.344317</td>\n",
       "      <td>1.398886</td>\n",
       "      <td>0.817304</td>\n",
       "      <td>0.976904</td>\n",
       "      <td>0.685774</td>\n",
       "      <td>-0.258080</td>\n",
       "      <td>1.561567</td>\n",
       "      <td>-0.147151</td>\n",
       "      <td>-0.261893</td>\n",
       "      <td>-0.334801</td>\n",
       "    </tr>\n",
       "  </tbody>\n",
       "</table>\n",
       "<p>7081 rows × 14 columns</p>\n",
       "</div>"
      ],
      "text/plain": [
       "       Customer_Age  Dependent_count  Months_on_book  \\\n",
       "0         -0.167610         0.512710        0.377234   \n",
       "1          0.329862         2.061228        1.002074   \n",
       "2          0.578598         0.512710        0.002330   \n",
       "4         -0.789449         0.512710       -1.872192   \n",
       "5         -0.291978        -0.261549        0.002330   \n",
       "...             ...              ...             ...   \n",
       "10120      0.951702        -1.035808       -0.247607   \n",
       "10121      1.200438        -1.035808        1.751883   \n",
       "10122      0.454230        -0.261549        0.502202   \n",
       "10124     -0.291978        -1.035808        0.002330   \n",
       "10126     -0.416345        -0.261549       -1.372319   \n",
       "\n",
       "       Total_Relationship_Count  Months_Inactive_12_mon  \\\n",
       "0                      0.764487               -1.349309   \n",
       "1                      1.412015               -1.349309   \n",
       "2                      0.116959               -1.349309   \n",
       "4                      0.764487               -1.349309   \n",
       "5                     -0.530569               -1.349309   \n",
       "...                         ...                     ...   \n",
       "10120                  0.764487               -0.344317   \n",
       "10121                  0.116959               -1.349309   \n",
       "10122                 -0.530569               -0.344317   \n",
       "10124                  0.764487                0.660674   \n",
       "10126                  1.412015               -0.344317   \n",
       "\n",
       "       Contacts_Count_12_mon  Credit_Limit  Total_Revolving_Bal  \\\n",
       "0                   0.493777      0.990943            -0.480760   \n",
       "1                  -0.411332      0.604093            -0.373652   \n",
       "2                  -2.221550     -0.374612            -1.437353   \n",
       "4                  -2.221550      0.014602            -1.437353   \n",
       "5                  -0.411332     -0.176526             0.097873   \n",
       "...                      ...           ...                  ...   \n",
       "10120              -2.221550      1.068634             1.159112   \n",
       "10121               1.398886     -0.279082            -0.691285   \n",
       "10122               0.493777     -0.178639             0.841479   \n",
       "10124               1.398886      0.168718            -1.437353   \n",
       "10126               1.398886      0.817304             0.976904   \n",
       "\n",
       "       Avg_Open_To_Buy  Total_Amt_Chng_Q4_Q1  Total_Trans_Amt  Total_Trans_Ct  \\\n",
       "0             0.953855              2.574433        -1.769626       -0.945214   \n",
       "1             0.584844              3.497689        -1.556406       -1.323244   \n",
       "2            -0.003495              8.217051        -0.911509       -1.869287   \n",
       "4             0.240846              6.339166        -2.386491       -1.533260   \n",
       "5            -0.164044              2.758188        -1.859293       -1.701273   \n",
       "...                ...                   ...              ...             ...   \n",
       "10120         0.948423             -0.450798         2.075651        2.079024   \n",
       "10121        -0.081679             -0.854163         1.997023        2.331044   \n",
       "10122        -0.351712             -0.258080         2.067822        2.205034   \n",
       "10124         0.345431              0.261812         1.561194       -0.189154   \n",
       "10126         0.685774             -0.258080         1.561567       -0.147151   \n",
       "\n",
       "       Total_Ct_Chng_Q4_Q1  Avg_Utilization_Ratio  \n",
       "0                 3.827331              -0.794057  \n",
       "1                12.579779              -0.636187  \n",
       "2                 6.793694              -1.012921  \n",
       "4                 7.493388              -1.012921  \n",
       "5                 0.563494               0.102927  \n",
       "...                    ...                    ...  \n",
       "10120             0.178034              -0.471142  \n",
       "10121             0.333056              -0.424499  \n",
       "10122             0.609581               0.644706  \n",
       "10124             0.446180              -1.012921  \n",
       "10126            -0.261893              -0.334801  \n",
       "\n",
       "[7081 rows x 14 columns]"
      ]
     },
     "execution_count": 12,
     "metadata": {},
     "output_type": "execute_result"
    }
   ],
   "source": [
    "normaliser = StandardScaler()\n",
    "df_quanti[df_quanti.columns] = normaliser.fit_transform(df_quanti)\n",
    "df_quanti"
   ]
  },
  {
   "cell_type": "code",
   "execution_count": 13,
   "id": "0d8d1fc7",
   "metadata": {},
   "outputs": [
    {
     "data": {
      "image/png": "[encoded data removed]",
      "text/plain": [
       "<Figure size 1800x864 with 1 Axes>"
      ]
     },
     "metadata": {},
     "output_type": "display_data"
    }
   ],
   "source": [
    "plt.figure(figsize=(25,12))\n",
    "sns.boxplot(data=df_quanti)\n",
    "plt.show()"
   ]
  },
  {
   "cell_type": "markdown",
   "id": "8e274c30",
   "metadata": {},
   "source": [
    "- Assemblage du Dataset"
   ]
  },
  {
   "cell_type": "code",
   "execution_count": 14,
   "id": "f18cafcc",
   "metadata": {},
   "outputs": [
    {
     "data": {
      "text/html": [
       "<div>\n",
       "<style scoped>\n",
       "    .dataframe tbody tr th:only-of-type {\n",
       "        vertical-align: middle;\n",
       "    }\n",
       "\n",
       "    .dataframe tbody tr th {\n",
       "        vertical-align: top;\n",
       "    }\n",
       "\n",
       "    .dataframe thead th {\n",
       "        text-align: right;\n",
       "    }\n",
       "</style>\n",
       "<table border=\"1\" class=\"dataframe\">\n",
       "  <thead>\n",
       "    <tr style=\"text-align: right;\">\n",
       "      <th></th>\n",
       "      <th>Gender_M</th>\n",
       "      <th>Marital_Status_Married</th>\n",
       "      <th>Marital_Status_Single</th>\n",
       "      <th>Card_Category</th>\n",
       "      <th>Income_Category</th>\n",
       "      <th>Education_Level</th>\n",
       "      <th>Customer_Age</th>\n",
       "      <th>Dependent_count</th>\n",
       "      <th>Months_on_book</th>\n",
       "      <th>Total_Relationship_Count</th>\n",
       "      <th>Months_Inactive_12_mon</th>\n",
       "      <th>Contacts_Count_12_mon</th>\n",
       "      <th>Credit_Limit</th>\n",
       "      <th>Total_Revolving_Bal</th>\n",
       "      <th>Avg_Open_To_Buy</th>\n",
       "      <th>Total_Amt_Chng_Q4_Q1</th>\n",
       "      <th>Total_Trans_Amt</th>\n",
       "      <th>Total_Trans_Ct</th>\n",
       "      <th>Total_Ct_Chng_Q4_Q1</th>\n",
       "      <th>Avg_Utilization_Ratio</th>\n",
       "    </tr>\n",
       "  </thead>\n",
       "  <tbody>\n",
       "    <tr>\n",
       "      <th>0</th>\n",
       "      <td>1</td>\n",
       "      <td>1</td>\n",
       "      <td>0</td>\n",
       "      <td>0</td>\n",
       "      <td>3</td>\n",
       "      <td>2</td>\n",
       "      <td>-0.167610</td>\n",
       "      <td>0.512710</td>\n",
       "      <td>0.377234</td>\n",
       "      <td>0.764487</td>\n",
       "      <td>-1.349309</td>\n",
       "      <td>0.493777</td>\n",
       "      <td>0.990943</td>\n",
       "      <td>-0.480760</td>\n",
       "      <td>0.953855</td>\n",
       "      <td>2.574433</td>\n",
       "      <td>-1.769626</td>\n",
       "      <td>-0.945214</td>\n",
       "      <td>3.827331</td>\n",
       "      <td>-0.794057</td>\n",
       "    </tr>\n",
       "    <tr>\n",
       "      <th>1</th>\n",
       "      <td>0</td>\n",
       "      <td>0</td>\n",
       "      <td>1</td>\n",
       "      <td>0</td>\n",
       "      <td>0</td>\n",
       "      <td>3</td>\n",
       "      <td>0.329862</td>\n",
       "      <td>2.061228</td>\n",
       "      <td>1.002074</td>\n",
       "      <td>1.412015</td>\n",
       "      <td>-1.349309</td>\n",
       "      <td>-0.411332</td>\n",
       "      <td>0.604093</td>\n",
       "      <td>-0.373652</td>\n",
       "      <td>0.584844</td>\n",
       "      <td>3.497689</td>\n",
       "      <td>-1.556406</td>\n",
       "      <td>-1.323244</td>\n",
       "      <td>12.579779</td>\n",
       "      <td>-0.636187</td>\n",
       "    </tr>\n",
       "    <tr>\n",
       "      <th>2</th>\n",
       "      <td>1</td>\n",
       "      <td>1</td>\n",
       "      <td>0</td>\n",
       "      <td>0</td>\n",
       "      <td>2</td>\n",
       "      <td>3</td>\n",
       "      <td>0.578598</td>\n",
       "      <td>0.512710</td>\n",
       "      <td>0.002330</td>\n",
       "      <td>0.116959</td>\n",
       "      <td>-1.349309</td>\n",
       "      <td>-2.221550</td>\n",
       "      <td>-0.374612</td>\n",
       "      <td>-1.437353</td>\n",
       "      <td>-0.003495</td>\n",
       "      <td>8.217051</td>\n",
       "      <td>-0.911509</td>\n",
       "      <td>-1.869287</td>\n",
       "      <td>6.793694</td>\n",
       "      <td>-1.012921</td>\n",
       "    </tr>\n",
       "    <tr>\n",
       "      <th>4</th>\n",
       "      <td>1</td>\n",
       "      <td>1</td>\n",
       "      <td>0</td>\n",
       "      <td>0</td>\n",
       "      <td>3</td>\n",
       "      <td>0</td>\n",
       "      <td>-0.789449</td>\n",
       "      <td>0.512710</td>\n",
       "      <td>-1.872192</td>\n",
       "      <td>0.764487</td>\n",
       "      <td>-1.349309</td>\n",
       "      <td>-2.221550</td>\n",
       "      <td>0.014602</td>\n",
       "      <td>-1.437353</td>\n",
       "      <td>0.240846</td>\n",
       "      <td>6.339166</td>\n",
       "      <td>-2.386491</td>\n",
       "      <td>-1.533260</td>\n",
       "      <td>7.493388</td>\n",
       "      <td>-1.012921</td>\n",
       "    </tr>\n",
       "    <tr>\n",
       "      <th>5</th>\n",
       "      <td>1</td>\n",
       "      <td>1</td>\n",
       "      <td>0</td>\n",
       "      <td>0</td>\n",
       "      <td>1</td>\n",
       "      <td>3</td>\n",
       "      <td>-0.291978</td>\n",
       "      <td>-0.261549</td>\n",
       "      <td>0.002330</td>\n",
       "      <td>-0.530569</td>\n",
       "      <td>-1.349309</td>\n",
       "      <td>-0.411332</td>\n",
       "      <td>-0.176526</td>\n",
       "      <td>0.097873</td>\n",
       "      <td>-0.164044</td>\n",
       "      <td>2.758188</td>\n",
       "      <td>-1.859293</td>\n",
       "      <td>-1.701273</td>\n",
       "      <td>0.563494</td>\n",
       "      <td>0.102927</td>\n",
       "    </tr>\n",
       "    <tr>\n",
       "      <th>...</th>\n",
       "      <td>...</td>\n",
       "      <td>...</td>\n",
       "      <td>...</td>\n",
       "      <td>...</td>\n",
       "      <td>...</td>\n",
       "      <td>...</td>\n",
       "      <td>...</td>\n",
       "      <td>...</td>\n",
       "      <td>...</td>\n",
       "      <td>...</td>\n",
       "      <td>...</td>\n",
       "      <td>...</td>\n",
       "      <td>...</td>\n",
       "      <td>...</td>\n",
       "      <td>...</td>\n",
       "      <td>...</td>\n",
       "      <td>...</td>\n",
       "      <td>...</td>\n",
       "      <td>...</td>\n",
       "      <td>...</td>\n",
       "    </tr>\n",
       "    <tr>\n",
       "      <th>10120</th>\n",
       "      <td>1</td>\n",
       "      <td>0</td>\n",
       "      <td>1</td>\n",
       "      <td>0</td>\n",
       "      <td>3</td>\n",
       "      <td>2</td>\n",
       "      <td>0.951702</td>\n",
       "      <td>-1.035808</td>\n",
       "      <td>-0.247607</td>\n",
       "      <td>0.764487</td>\n",
       "      <td>-0.344317</td>\n",
       "      <td>-2.221550</td>\n",
       "      <td>1.068634</td>\n",
       "      <td>1.159112</td>\n",
       "      <td>0.948423</td>\n",
       "      <td>-0.450798</td>\n",
       "      <td>2.075651</td>\n",
       "      <td>2.079024</td>\n",
       "      <td>0.178034</td>\n",
       "      <td>-0.471142</td>\n",
       "    </tr>\n",
       "    <tr>\n",
       "      <th>10121</th>\n",
       "      <td>0</td>\n",
       "      <td>0</td>\n",
       "      <td>1</td>\n",
       "      <td>0</td>\n",
       "      <td>0</td>\n",
       "      <td>3</td>\n",
       "      <td>1.200438</td>\n",
       "      <td>-1.035808</td>\n",
       "      <td>1.751883</td>\n",
       "      <td>0.116959</td>\n",
       "      <td>-1.349309</td>\n",
       "      <td>1.398886</td>\n",
       "      <td>-0.279082</td>\n",
       "      <td>-0.691285</td>\n",
       "      <td>-0.081679</td>\n",
       "      <td>-0.854163</td>\n",
       "      <td>1.997023</td>\n",
       "      <td>2.331044</td>\n",
       "      <td>0.333056</td>\n",
       "      <td>-0.424499</td>\n",
       "    </tr>\n",
       "    <tr>\n",
       "      <th>10122</th>\n",
       "      <td>1</td>\n",
       "      <td>0</td>\n",
       "      <td>1</td>\n",
       "      <td>0</td>\n",
       "      <td>1</td>\n",
       "      <td>3</td>\n",
       "      <td>0.454230</td>\n",
       "      <td>-0.261549</td>\n",
       "      <td>0.502202</td>\n",
       "      <td>-0.530569</td>\n",
       "      <td>-0.344317</td>\n",
       "      <td>0.493777</td>\n",
       "      <td>-0.178639</td>\n",
       "      <td>0.841479</td>\n",
       "      <td>-0.351712</td>\n",
       "      <td>-0.258080</td>\n",
       "      <td>2.067822</td>\n",
       "      <td>2.205034</td>\n",
       "      <td>0.609581</td>\n",
       "      <td>0.644706</td>\n",
       "    </tr>\n",
       "    <tr>\n",
       "      <th>10124</th>\n",
       "      <td>0</td>\n",
       "      <td>1</td>\n",
       "      <td>0</td>\n",
       "      <td>0</td>\n",
       "      <td>0</td>\n",
       "      <td>2</td>\n",
       "      <td>-0.291978</td>\n",
       "      <td>-1.035808</td>\n",
       "      <td>0.002330</td>\n",
       "      <td>0.764487</td>\n",
       "      <td>0.660674</td>\n",
       "      <td>1.398886</td>\n",
       "      <td>0.168718</td>\n",
       "      <td>-1.437353</td>\n",
       "      <td>0.345431</td>\n",
       "      <td>0.261812</td>\n",
       "      <td>1.561194</td>\n",
       "      <td>-0.189154</td>\n",
       "      <td>0.446180</td>\n",
       "      <td>-1.012921</td>\n",
       "    </tr>\n",
       "    <tr>\n",
       "      <th>10126</th>\n",
       "      <td>0</td>\n",
       "      <td>1</td>\n",
       "      <td>0</td>\n",
       "      <td>1</td>\n",
       "      <td>0</td>\n",
       "      <td>3</td>\n",
       "      <td>-0.416345</td>\n",
       "      <td>-0.261549</td>\n",
       "      <td>-1.372319</td>\n",
       "      <td>1.412015</td>\n",
       "      <td>-0.344317</td>\n",
       "      <td>1.398886</td>\n",
       "      <td>0.817304</td>\n",
       "      <td>0.976904</td>\n",
       "      <td>0.685774</td>\n",
       "      <td>-0.258080</td>\n",
       "      <td>1.561567</td>\n",
       "      <td>-0.147151</td>\n",
       "      <td>-0.261893</td>\n",
       "      <td>-0.334801</td>\n",
       "    </tr>\n",
       "  </tbody>\n",
       "</table>\n",
       "<p>7081 rows × 20 columns</p>\n",
       "</div>"
      ],
      "text/plain": [
       "       Gender_M  Marital_Status_Married  Marital_Status_Single  Card_Category  \\\n",
       "0             1                       1                      0              0   \n",
       "1             0                       0                      1              0   \n",
       "2             1                       1                      0              0   \n",
       "4             1                       1                      0              0   \n",
       "5             1                       1                      0              0   \n",
       "...         ...                     ...                    ...            ...   \n",
       "10120         1                       0                      1              0   \n",
       "10121         0                       0                      1              0   \n",
       "10122         1                       0                      1              0   \n",
       "10124         0                       1                      0              0   \n",
       "10126         0                       1                      0              1   \n",
       "\n",
       "       Income_Category  Education_Level  Customer_Age  Dependent_count  \\\n",
       "0                    3                2     -0.167610         0.512710   \n",
       "1                    0                3      0.329862         2.061228   \n",
       "2                    2                3      0.578598         0.512710   \n",
       "4                    3                0     -0.789449         0.512710   \n",
       "5                    1                3     -0.291978        -0.261549   \n",
       "...                ...              ...           ...              ...   \n",
       "10120                3                2      0.951702        -1.035808   \n",
       "10121                0                3      1.200438        -1.035808   \n",
       "10122                1                3      0.454230        -0.261549   \n",
       "10124                0                2     -0.291978        -1.035808   \n",
       "10126                0                3     -0.416345        -0.261549   \n",
       "\n",
       "       Months_on_book  Total_Relationship_Count  Months_Inactive_12_mon  \\\n",
       "0            0.377234                  0.764487               -1.349309   \n",
       "1            1.002074                  1.412015               -1.349309   \n",
       "2            0.002330                  0.116959               -1.349309   \n",
       "4           -1.872192                  0.764487               -1.349309   \n",
       "5            0.002330                 -0.530569               -1.349309   \n",
       "...               ...                       ...                     ...   \n",
       "10120       -0.247607                  0.764487               -0.344317   \n",
       "10121        1.751883                  0.116959               -1.349309   \n",
       "10122        0.502202                 -0.530569               -0.344317   \n",
       "10124        0.002330                  0.764487                0.660674   \n",
       "10126       -1.372319                  1.412015               -0.344317   \n",
       "\n",
       "       Contacts_Count_12_mon  Credit_Limit  Total_Revolving_Bal  \\\n",
       "0                   0.493777      0.990943            -0.480760   \n",
       "1                  -0.411332      0.604093            -0.373652   \n",
       "2                  -2.221550     -0.374612            -1.437353   \n",
       "4                  -2.221550      0.014602            -1.437353   \n",
       "5                  -0.411332     -0.176526             0.097873   \n",
       "...                      ...           ...                  ...   \n",
       "10120              -2.221550      1.068634             1.159112   \n",
       "10121               1.398886     -0.279082            -0.691285   \n",
       "10122               0.493777     -0.178639             0.841479   \n",
       "10124               1.398886      0.168718            -1.437353   \n",
       "10126               1.398886      0.817304             0.976904   \n",
       "\n",
       "       Avg_Open_To_Buy  Total_Amt_Chng_Q4_Q1  Total_Trans_Amt  Total_Trans_Ct  \\\n",
       "0             0.953855              2.574433        -1.769626       -0.945214   \n",
       "1             0.584844              3.497689        -1.556406       -1.323244   \n",
       "2            -0.003495              8.217051        -0.911509       -1.869287   \n",
       "4             0.240846              6.339166        -2.386491       -1.533260   \n",
       "5            -0.164044              2.758188        -1.859293       -1.701273   \n",
       "...                ...                   ...              ...             ...   \n",
       "10120         0.948423             -0.450798         2.075651        2.079024   \n",
       "10121        -0.081679             -0.854163         1.997023        2.331044   \n",
       "10122        -0.351712             -0.258080         2.067822        2.205034   \n",
       "10124         0.345431              0.261812         1.561194       -0.189154   \n",
       "10126         0.685774             -0.258080         1.561567       -0.147151   \n",
       "\n",
       "       Total_Ct_Chng_Q4_Q1  Avg_Utilization_Ratio  \n",
       "0                 3.827331              -0.794057  \n",
       "1                12.579779              -0.636187  \n",
       "2                 6.793694              -1.012921  \n",
       "4                 7.493388              -1.012921  \n",
       "5                 0.563494               0.102927  \n",
       "...                    ...                    ...  \n",
       "10120             0.178034              -0.471142  \n",
       "10121             0.333056              -0.424499  \n",
       "10122             0.609581               0.644706  \n",
       "10124             0.446180              -1.012921  \n",
       "10126            -0.261893              -0.334801  \n",
       "\n",
       "[7081 rows x 20 columns]"
      ]
     },
     "execution_count": 14,
     "metadata": {},
     "output_type": "execute_result"
    }
   ],
   "source": [
    "datas = pd.concat([df_quali_nom,data['Card_Category'],\\\n",
    "                   data['Income_Category'],data['Education_Level'],\\\n",
    "                   df_quanti],axis=1)\n",
    "datas"
   ]
  },
  {
   "cell_type": "markdown",
   "id": "960e9fe8",
   "metadata": {},
   "source": [
    "- Creation des Variables X et y"
   ]
  },
  {
   "cell_type": "code",
   "execution_count": 15,
   "id": "7b1ffbc1",
   "metadata": {},
   "outputs": [],
   "source": [
    "X = datas\n",
    "y = data['Attrition_Flag']\n",
    "X_train, X_test, y_train, y_test = train_test_split(X, y, test_size=.3, random_state=5)"
   ]
  },
  {
   "cell_type": "markdown",
   "id": "ba16d8b3",
   "metadata": {},
   "source": [
    "# 3 - Modèlisation"
   ]
  },
  {
   "cell_type": "markdown",
   "id": "53e7e913",
   "metadata": {},
   "source": [
    "- Support Vector Classifier"
   ]
  },
  {
   "cell_type": "code",
   "execution_count": 16,
   "id": "df6a8469",
   "metadata": {},
   "outputs": [
    {
     "data": {
      "text/plain": [
       "LinearSVC(random_state=5)"
      ]
     },
     "execution_count": 16,
     "metadata": {},
     "output_type": "execute_result"
    }
   ],
   "source": [
    "model_svc = LinearSVC(random_state=5)\n",
    "model_svc.fit(X_train,y_train)"
   ]
  },
  {
   "cell_type": "markdown",
   "id": "cd26c56c",
   "metadata": {},
   "source": [
    "- Affichage des Scores du SVM"
   ]
  },
  {
   "cell_type": "code",
   "execution_count": 17,
   "id": "2b4c5184",
   "metadata": {},
   "outputs": [
    {
     "name": "stdout",
     "output_type": "stream",
     "text": [
      "Train Score : 0.9162631154156577\n",
      "Test Score : 0.9115294117647059\n"
     ]
    }
   ],
   "source": [
    "train_score = model_svc.score(X_train, y_train)\n",
    "test_score = model_svc.score(X_test, y_test)\n",
    "print('Train Score :', train_score)\n",
    "print('Test Score :', test_score)"
   ]
  },
  {
   "cell_type": "markdown",
   "id": "a4d54d37",
   "metadata": {},
   "source": [
    "- Rapport de Calssification"
   ]
  },
  {
   "cell_type": "code",
   "execution_count": 18,
   "id": "3ec43619",
   "metadata": {
    "scrolled": true
   },
   "outputs": [
    {
     "name": "stdout",
     "output_type": "stream",
     "text": [
      "              precision    recall  f1-score   support\n",
      "\n",
      "           0       0.93      0.97      0.95      1795\n",
      "           1       0.80      0.58      0.67       330\n",
      "\n",
      "    accuracy                           0.91      2125\n",
      "   macro avg       0.86      0.78      0.81      2125\n",
      "weighted avg       0.91      0.91      0.91      2125\n",
      "\n"
     ]
    }
   ],
   "source": [
    "y_pred = model_svc.predict(X_test)\n",
    "print(classification_report(y_test,y_pred))"
   ]
  },
  {
   "cell_type": "markdown",
   "id": "ca0dad6e",
   "metadata": {},
   "source": [
    "Matrix de Confusion"
   ]
  },
  {
   "cell_type": "code",
   "execution_count": 35,
   "id": "224829bf",
   "metadata": {},
   "outputs": [
    {
     "name": "stdout",
     "output_type": "stream",
     "text": [
      "      0    1\n",
      "0  1746   49\n",
      "1   139  191\n"
     ]
    }
   ],
   "source": [
    "print(pd.DataFrame(confusion_matrix(y_test,y_pred)))"
   ]
  },
  {
   "cell_type": "markdown",
   "id": "4841729c",
   "metadata": {},
   "source": [
    "- Courbe d'Apprentissage"
   ]
  },
  {
   "cell_type": "code",
   "execution_count": 19,
   "id": "0aed07fa",
   "metadata": {},
   "outputs": [
    {
     "data": {
      "image/png": "[encoded data removed]",
      "text/plain": [
       "<Figure size 864x576 with 1 Axes>"
      ]
     },
     "metadata": {},
     "output_type": "display_data"
    }
   ],
   "source": [
    "var, train_score, val_score = learning_curve(model_svc,X_train, y_train, train_sizes=np.linspace(0.1,1.0,10), cv=5)\n",
    "plt.figure(figsize=(12,8))\n",
    "plt.title('Courbe de Validation du Model de SVC')\n",
    "plt.plot(var, train_score.mean(axis = 1), label = 'Train')\n",
    "plt.plot(var, val_score.mean(axis = 1), label = 'Validation')\n",
    "plt.xlabel('Train_size')\n",
    "plt.legend()\n",
    "plt.show()"
   ]
  },
  {
   "cell_type": "markdown",
   "id": "e8645057",
   "metadata": {},
   "source": [
    "- RandomForest"
   ]
  },
  {
   "cell_type": "code",
   "execution_count": 20,
   "id": "3e5e0191",
   "metadata": {},
   "outputs": [
    {
     "data": {
      "text/plain": [
       "RandomForestClassifier(max_depth=5, random_state=5)"
      ]
     },
     "execution_count": 20,
     "metadata": {},
     "output_type": "execute_result"
    }
   ],
   "source": [
    "model_rfc = RandomForestClassifier(n_estimators=100,max_depth=5,random_state=5)\n",
    "model_rfc.fit(X_train,y_train)"
   ]
  },
  {
   "cell_type": "markdown",
   "id": "6ce22542",
   "metadata": {},
   "source": [
    "- Affichage des Scores du RandomForestClassifier"
   ]
  },
  {
   "cell_type": "code",
   "execution_count": 21,
   "id": "082d77c3",
   "metadata": {},
   "outputs": [
    {
     "name": "stdout",
     "output_type": "stream",
     "text": [
      "Train Score : 0.9277643260694108\n",
      "Test Score : 0.908235294117647\n"
     ]
    }
   ],
   "source": [
    "train_sc = model_rfc.score(X_train, y_train)\n",
    "test_sc = model_rfc.score(X_test, y_test)\n",
    "print('Train Score :', train_sc)\n",
    "print('Test Score :', test_sc)"
   ]
  },
  {
   "cell_type": "markdown",
   "id": "f29ba27b",
   "metadata": {},
   "source": [
    "- Rapport de Classification"
   ]
  },
  {
   "cell_type": "code",
   "execution_count": 22,
   "id": "1b0352f5",
   "metadata": {},
   "outputs": [],
   "source": [
    "y_predict = model_rfc.predict(X_test)"
   ]
  },
  {
   "cell_type": "code",
   "execution_count": 23,
   "id": "6663abe3",
   "metadata": {
    "scrolled": true
   },
   "outputs": [
    {
     "name": "stdout",
     "output_type": "stream",
     "text": [
      "              precision    recall  f1-score   support\n",
      "\n",
      "           0       0.91      0.99      0.95      1795\n",
      "           1       0.87      0.48      0.62       330\n",
      "\n",
      "    accuracy                           0.91      2125\n",
      "   macro avg       0.89      0.73      0.78      2125\n",
      "weighted avg       0.91      0.91      0.90      2125\n",
      "\n"
     ]
    }
   ],
   "source": [
    "print(classification_report(y_test, y_predict))"
   ]
  },
  {
   "cell_type": "code",
   "execution_count": 51,
   "id": "1b94ff4c",
   "metadata": {},
   "outputs": [
    {
     "name": "stdout",
     "output_type": "stream",
     "text": [
      "      0    1\n",
      "0  1771   24\n",
      "1   171  159\n"
     ]
    }
   ],
   "source": [
    "print(pd.DataFrame(confusion_matrix(y_test,y_predict)))"
   ]
  },
  {
   "cell_type": "markdown",
   "id": "a22f3ad5",
   "metadata": {},
   "source": [
    "- Courbe d'Apprentissage"
   ]
  },
  {
   "cell_type": "code",
   "execution_count": 24,
   "id": "a00226fe",
   "metadata": {},
   "outputs": [
    {
     "data": {
      "image/png": "[encoded data removed]",
      "text/plain": [
       "<Figure size 864x576 with 1 Axes>"
      ]
     },
     "metadata": {},
     "output_type": "display_data"
    }
   ],
   "source": [
    "var, train_score, val_score = learning_curve(model_rfc,X_train, y_train, train_sizes=np.linspace(0.1,1.0,10), cv=5)\n",
    "plt.figure(figsize=(12,8))\n",
    "plt.title('Courbe de Validation du RandomForest')\n",
    "plt.plot(var, train_score.mean(axis = 1), label = 'Train')\n",
    "plt.plot(var, val_score.mean(axis = 1), label = 'Validation')\n",
    "plt.xlabel('Train_size')\n",
    "plt.legend()\n",
    "plt.show()"
   ]
  },
  {
   "cell_type": "markdown",
   "id": "f4da3718",
   "metadata": {},
   "source": [
    "* KNeighborsClassifier"
   ]
  },
  {
   "cell_type": "code",
   "execution_count": 25,
   "id": "6ee861b1",
   "metadata": {},
   "outputs": [
    {
     "data": {
      "text/plain": [
       "KNeighborsClassifier()"
      ]
     },
     "execution_count": 25,
     "metadata": {},
     "output_type": "execute_result"
    }
   ],
   "source": [
    "model_kn = KNeighborsClassifier(n_neighbors=5)\n",
    "model_kn.fit(X_train, y_train)"
   ]
  },
  {
   "cell_type": "markdown",
   "id": "42f11c01",
   "metadata": {},
   "source": [
    "* Affichage du Score du Model de KNeighbors"
   ]
  },
  {
   "cell_type": "code",
   "execution_count": 26,
   "id": "1c3b0898",
   "metadata": {},
   "outputs": [
    {
     "name": "stdout",
     "output_type": "stream",
     "text": [
      "Score d'entrainement :  0.935633575464084\n",
      "Score de test : 0.9087058823529411\n"
     ]
    }
   ],
   "source": [
    "train_s = model_kn.score(X_train, y_train)\n",
    "test_s = model_kn.score(X_test,y_test)\n",
    "print('Score d\\'entrainement : ',train_s)\n",
    "print('Score de test :',test_s)"
   ]
  },
  {
   "cell_type": "markdown",
   "id": "831d150b",
   "metadata": {},
   "source": [
    "* Rapport de Classification"
   ]
  },
  {
   "cell_type": "code",
   "execution_count": 27,
   "id": "afffc443",
   "metadata": {
    "scrolled": true
   },
   "outputs": [
    {
     "name": "stdout",
     "output_type": "stream",
     "text": [
      "              precision    recall  f1-score   support\n",
      "\n",
      "           0       0.91      0.98      0.95      1795\n",
      "           1       0.85      0.50      0.63       330\n",
      "\n",
      "    accuracy                           0.91      2125\n",
      "   macro avg       0.88      0.74      0.79      2125\n",
      "weighted avg       0.90      0.91      0.90      2125\n",
      "\n"
     ]
    }
   ],
   "source": [
    "y_pre = model_kn.predict(X_test)\n",
    "print(classification_report(y_test, y_pre))"
   ]
  },
  {
   "cell_type": "code",
   "execution_count": 41,
   "id": "70412fb0",
   "metadata": {},
   "outputs": [
    {
     "name": "stdout",
     "output_type": "stream",
     "text": [
      "      0    1\n",
      "0  1767   28\n",
      "1   166  164\n"
     ]
    }
   ],
   "source": [
    "print(pd.DataFrame(confusion_matrix(y_test,y_pre)))"
   ]
  },
  {
   "cell_type": "code",
   "execution_count": 28,
   "id": "9e276fce",
   "metadata": {},
   "outputs": [
    {
     "data": {
      "image/png": "[encoded data removed]",
      "text/plain": [
       "<Figure size 864x576 with 1 Axes>"
      ]
     },
     "metadata": {},
     "output_type": "display_data"
    }
   ],
   "source": [
    "var, train_score, val_score = learning_curve(model_kn,X_train, y_train, train_sizes=np.linspace(0.1,1.0,10), cv=5)\n",
    "plt.figure(figsize=(12,8))\n",
    "plt.title('Courbe de Validation du RandomForest')\n",
    "plt.plot(var, train_score.mean(axis = 1), label = 'Train')\n",
    "plt.plot(var, val_score.mean(axis = 1), label = 'Validation')\n",
    "plt.xlabel('Train_size')\n",
    "plt.legend()\n",
    "plt.show()"
   ]
  },
  {
   "cell_type": "markdown",
   "id": "033de301",
   "metadata": {},
   "source": [
    " # Optimisation des paramètres du Random Forest"
   ]
  },
  {
   "cell_type": "code",
   "execution_count": 29,
   "id": "f768893b",
   "metadata": {},
   "outputs": [],
   "source": [
    "#n_est = [int(x) for x in  np.linspace(start=100,stop=1000, num=100)]\n",
    "#m_d = [int(x) for x in np.linspace(start=5,stop=50, num=5)]\n",
    "#params = {'n_estimators':n_est,'criterion':['gini','entropy'],'max_depth':m_d}\n",
    "#grid = GridSearchCV(RandomForestClassifier(),params,cv=5)\n",
    "#grid.fit(X_train,y_train)"
   ]
  },
  {
   "cell_type": "markdown",
   "id": "bf8125b4",
   "metadata": {},
   "source": [
    "# Selection de Variable"
   ]
  },
  {
   "cell_type": "code",
   "execution_count": 30,
   "id": "53ecfefa",
   "metadata": {},
   "outputs": [
    {
     "data": {
      "text/plain": [
       "array([0.00712545, 0.00144223, 0.0017832 , 0.00246278, 0.00143079,\n",
       "       0.00088547, 0.01350135, 0.00240436, 0.00969303, 0.06358161,\n",
       "       0.0186889 , 0.02286607, 0.02026271, 0.16030893, 0.01346815,\n",
       "       0.04712794, 0.17594152, 0.20248911, 0.13058963, 0.10394676])"
      ]
     },
     "execution_count": 30,
     "metadata": {},
     "output_type": "execute_result"
    }
   ],
   "source": [
    "model_rfc.feature_importances_"
   ]
  },
  {
   "cell_type": "code",
   "execution_count": 32,
   "id": "ae727598",
   "metadata": {},
   "outputs": [
    {
     "data": {
      "text/plain": [
       "<AxesSubplot:>"
      ]
     },
     "execution_count": 32,
     "metadata": {},
     "output_type": "execute_result"
    },
    {
     "data": {
      "image/png": "[encoded data removed]",
      "text/plain": [
       "<Figure size 864x576 with 1 Axes>"
      ]
     },
     "metadata": {},
     "output_type": "display_data"
    }
   ],
   "source": [
    "pd.DataFrame(model_rfc.feature_importances_,X_train.columns).plot.bar(figsize=(12,8))"
   ]
  },
  {
   "cell_type": "markdown",
   "id": "deb30a60",
   "metadata": {},
   "source": [
    "- Gradient Boosting"
   ]
  },
  {
   "cell_type": "code",
   "execution_count": 44,
   "id": "1331687c",
   "metadata": {},
   "outputs": [
    {
     "data": {
      "text/plain": [
       "GradientBoostingClassifier(learning_rate=1.0, max_depth=1, random_state=5)"
      ]
     },
     "execution_count": 44,
     "metadata": {},
     "output_type": "execute_result"
    }
   ],
   "source": [
    "g_model = GradientBoostingClassifier(n_estimators=100,learning_rate=1.0, max_depth=1,random_state=5)\n",
    "g_model.fit(X_train,y_train)"
   ]
  },
  {
   "cell_type": "code",
   "execution_count": 45,
   "id": "9dd06ca2",
   "metadata": {},
   "outputs": [
    {
     "name": "stdout",
     "output_type": "stream",
     "text": [
      "Fit: 0.9711460855528652\n",
      "Train: 0.9585882352941176\n"
     ]
    }
   ],
   "source": [
    "train_score = g_model.score(X_train, y_train)\n",
    "test_score = g_model.score(X_test,y_test)\n",
    "print(f'Fit:',train_score)\n",
    "print(f'Train:',test_score)"
   ]
  },
  {
   "cell_type": "code",
   "execution_count": 47,
   "id": "89ec5f8f",
   "metadata": {},
   "outputs": [
    {
     "name": "stdout",
     "output_type": "stream",
     "text": [
      "              precision    recall  f1-score   support\n",
      "\n",
      "           0       0.97      0.98      0.98      1795\n",
      "           1       0.91      0.82      0.86       330\n",
      "\n",
      "    accuracy                           0.96      2125\n",
      "   macro avg       0.94      0.90      0.92      2125\n",
      "weighted avg       0.96      0.96      0.96      2125\n",
      "\n"
     ]
    }
   ],
   "source": [
    "predict = g_model.predict(X_test)\n",
    "print(classification_report(y_test, predict))"
   ]
  },
  {
   "cell_type": "code",
   "execution_count": 48,
   "id": "6adffec1",
   "metadata": {},
   "outputs": [
    {
     "name": "stdout",
     "output_type": "stream",
     "text": [
      "      0    1\n",
      "0  1767   28\n",
      "1    60  270\n"
     ]
    }
   ],
   "source": [
    "print(pd.DataFrame(confusion_matrix(y_test,predict)))"
   ]
  },
  {
   "cell_type": "code",
   "execution_count": 49,
   "id": "0ec6cd09",
   "metadata": {},
   "outputs": [
    {
     "data": {
      "image/png": "[encoded data removed]",
      "text/plain": [
       "<Figure size 864x576 with 1 Axes>"
      ]
     },
     "metadata": {},
     "output_type": "display_data"
    }
   ],
   "source": [
    "var, train_score, val_score = learning_curve(g_model,X_train, y_train, train_sizes=np.linspace(0.1,1.0,10), cv=5)\n",
    "plt.figure(figsize=(12,8))\n",
    "plt.title('Courbe de Validation du RandomForest')\n",
    "plt.plot(var, train_score.mean(axis = 1), label = 'Train')\n",
    "plt.plot(var, val_score.mean(axis = 1), label = 'Validation')\n",
    "plt.xlabel('Train_size')\n",
    "plt.legend()\n",
    "plt.show()"
   ]
  },
  {
   "cell_type": "code",
   "execution_count": 50,
   "id": "8df882c5",
   "metadata": {},
   "outputs": [
    {
     "data": {
      "text/plain": [
       "<AxesSubplot:>"
      ]
     },
     "execution_count": 50,
     "metadata": {},
     "output_type": "execute_result"
    },
    {
     "data": {
      "image/png": "[encoded data removed]",
      "text/plain": [
       "<Figure size 864x576 with 1 Axes>"
      ]
     },
     "metadata": {},
     "output_type": "display_data"
    }
   ],
   "source": [
    "pd.DataFrame(g_model.feature_importances_,X_train.columns).plot.bar(figsize=(12,8))"
   ]
  },
  {
   "cell_type": "code",
   "execution_count": null,
   "id": "d024f6be",
   "metadata": {},
   "outputs": [],
   "source": [
    "np.sort(g_model.feature_importances_)"
   ]
  }
 ],
 "metadata": {
  "kernelspec": {
   "display_name": "Python 3",
   "language": "python",
   "name": "python3"
  },
  "language_info": {
   "codemirror_mode": {
    "name": "ipython",
    "version": 3
   },
   "file_extension": ".py",
   "mimetype": "text/x-python",
   "name": "python",
   "nbconvert_exporter": "python",
   "pygments_lexer": "ipython3",
   "version": "3.9.5"
  }
 },
 "nbformat": 4,
 "nbformat_minor": 5
}
